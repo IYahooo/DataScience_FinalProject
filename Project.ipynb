{
 "cells": [
  {
   "cell_type": "code",
   "execution_count": 2,
   "metadata": {},
   "outputs": [],
   "source": [
    "from selenium.webdriver import Chrome\n",
    "import time\n",
    "from bs4 import BeautifulSoup \n",
    "import requests as r\n",
    "import pandas as pd\n",
    "import re\n",
    "import numpy as np\n",
    "import matplotlib.pyplot as plt\n",
    "%matplotlib inline"
   ]
  },
  {
   "cell_type": "markdown",
   "metadata": {},
   "source": [
    "# Описание проекта"
   ]
  },
  {
   "cell_type": "markdown",
   "metadata": {},
   "source": [
    "В этом проекте я хочу проанализировать статьи, публикуемые в различных журнала на тему #BlackLivesMatter. \n",
    "\n",
    "Для этого я взяла три разных журнала: The economist, CNN и New York Post, и спарсила практически все статьи в них, кторые можно найти по данному запросу. Именно эти три были выбрали для того, чтобы немного диверсифицировать выборку и не склоняться в какую либо сторону. Так, воспользовавшись [этой оценкой](https://www.adfontesmedia.com/?v=402f03a963ba) различных изданий, мы выбираем The economist как neutral biased, CNN - skews left и New York Post - skews right.\n",
    "\n",
    "Мы попробуем сравнить эти три издания между собой - есть ли какие-либо различиях с статьях на эту тему, публикуемых в разных журналах. А также посмотрим на различия в статьях до убийства Джоржда Флойда и возникновения огромных протестов и после.\n",
    "\n",
    "Для этого мы воспользуемся двумя основными показателями:\n",
    "\n",
    "- Мы посмотрим на наиболее употребляемые слова в разных изданиях и в разные промежутки времени\n",
    "\n",
    "- Оценим эмоциональную окрашенность данных статей\n",
    "\n",
    "Построим графики и проанализируем.\n",
    "\n",
    "После анализа данных статей, в завершение проекта, обучим модель машинного обучения на данных по употребляемым словам и научимся предсказывать, к какому изданию может относиться та или иная статья. Создадим для этого страничку с помощью streamlit.\n",
    "\n",
    "**Note**: для качественных выводов, скорее всего, использовались чуть более старые данные, чем ваши (т.к. я это делала минимум неделю назад), поэтому есть вероятность, что не все будет в точности совпадать с теми графиками, что вы видите."
   ]
  },
  {
   "cell_type": "markdown",
   "metadata": {},
   "source": [
    "### Баллы\n",
    "\n",
    "- **Обработка данных с помощью pandas. 2/2**\n",
    "\n",
    "2 — использовались продвинутые возможности pandas, соответствующие наиболее сложных задачам домашних работ или выходящие за рамки домашних работ.\n",
    "\n",
    "Однозначно 2. В проекте много работы с dataframe, используется специальный тип для даты и времени, много соединений таблиц, замены значений в них, изменений индексов, двойные индексы, изменение колонок, groupby + функции для вычисления характеристик к группированным талицам. Это точно сложнее средних задач\n",
    "\n",
    "- **Веб-скреппинг. 2/2** \n",
    "\n",
    "2 - использовались более сложные технологии скреппинга (Selenium, scrapy и др.)\n",
    "\n",
    "Однозначно 2. В проекте я использую и Selenium, и beautifulsoup в большом объеме. Без первого не обойтись, так как мне необходимо листать страницы, а я заранее не знаю их количества + на некоторых сайтах просто нет страниц, а есть кномка \"далее\". Beautifulsoup - для удобного скреппинга после того, как мы получили список ссылок, пролистав страницы\n",
    "\n",
    "\n",
    "- **Работа с REST API (XML/JSON). 2/2?**\n",
    "\n",
    "1 — использовались API примерно в объеме задач домашней работы; 2 — нетривиальное использование API, существенно выходящее за рамки обсуждавшегося в домашних работах.\n",
    "\n",
    "Я думаю, что мое API сложнее чем в домашних работах, так как для него необходимо установить дополнительную библиотеку, настроить соединение через адрес и ключ. В дз такого не было, но вопрос в том, что значит \"существенно\" выходящие. Хотя если это не 2 балла, тогда что 2 балла?\n",
    "\n",
    "- **Визуализация данных. 2/2**\n",
    "\n",
    "1 — базовые визуализации типа «построен scatter plot»; 2 — более сложные визуализации, требующие написания нетривиального кода.\n",
    "\n",
    "Однозначно 2. У меня явно сложнее, чем просто scatter plot, а именно: не мало графиков, почти все из них требуют написания более чем пары строчек кода; Один из графиков состоит из 12 маленьких, сделан с помощью pyplot.subplots и сложного цикла, чтобы пройтись по всем данным + (во всех графиках) много редактирующих функций вроде использования стилизации, замены осей, подписей, заголовков, цвета + ticks и yticks_labels для замены осей на слова\n",
    "\n",
    "- **Математические возможности Python 1/1** \n",
    "\n",
    "(содержательное использование numpy/scipy, SymPy и т.д. для решения математических задач)\n",
    "\n",
    "Однозначно 1. Использовался numpy для создания матрицы для обучения модели (включая обработку данных - нормализацию и стандартизацию полученной матрицы для лучшего результата)\n",
    "\n",
    "- **Streamlit. 2/2**\n",
    "\n",
    "2 — проект размещён в интернете (скачивать ничего не надо, достаточно пройти по ссылке и всё запустится).\n",
    "\n",
    "Однозначно 2. Сделала страничку с предсказанием и загрузила. **[Ссылка](https://fast-brook-89678.herokuapp.com/)**\n",
    "(описание ниже)\n",
    "\n",
    "- **SQL\t1/1**\n",
    "\n",
    "В одном месте не очень удобно было использовать pandas\n",
    "    \n",
    "- **Регулярные выражения 1/1** \n",
    "\n",
    "Однозначно 1. Используются для обработки текстов и разбивания на слова: нужно убрать все символы кроме букв и дефисов, убедится, что вместо запятых поставились пробелы (чтобы слова можно было разделить) и, самое главное, нужно избавиться от местоимений и предлогов - т.е. убрать все короткие слова, а проще всего их убрать серез регулярные выражения.\n",
    "\n",
    "\n",
    "- **R, tidyverse, ggplot2 и дополнения к нему не использовались - 0** \n",
    "\n",
    "(Ну потому что зачем в 2ух местах что-то делать, если можно в питоне)\n",
    "\n",
    "\n",
    "- **Технологии, необходимые для реализации проекта, и не обсуждавшиеся в курсе. - 1+**\t\n",
    "\n",
    "1 — использовались немножко (на уровне «скачать пример из документации, разобраться, как он работает, и прикруть к своему проекту); 2 — использовались на продвинутом уровне.\n",
    "\n",
    "Я добавила в свой проект немного (хотя, наверное, больше, чем немного) машинного обучения с помощью *sklearn*. Так как это не входит в другие категории, то это можно считать как *другие технологии* (хотя мы и немного затрагивали это на последней лекции, но я спросила у Ильи)\n",
    "\n",
    "\n",
    "- **Объём (осмысленных строк кода). 1/1**\n",
    "\n",
    "Однозначно 1. Строк явно больше 120) Даже если посчитать повторяющиеся куски в веб-скеппинге как один (Хотя там одинаковая только структура! - у каждого сайта свои классы и html код)\n",
    "\n",
    "- **Целостность проекта 1/1** \n",
    "\n",
    "Однозначно 1. Вроде как все по делу, даже не стала пытаться добавлять R\n",
    "\n",
    "- **Общее впечатление. 1?** \n",
    "\n",
    "0 — ну ок; 1 — вау, круто! - Ну мне понравилось :)\n",
    "\n",
    "\n",
    "**Минимальный балл: 15; Прогнозируемый: 16-17**"
   ]
  },
  {
   "cell_type": "markdown",
   "metadata": {},
   "source": [
    "# Парсим данные "
   ]
  },
  {
   "cell_type": "markdown",
   "metadata": {},
   "source": [
    "Тут мы используем и **Selenium** (без него не обойтись, так как нам нужно листать страницы, а мы не знаем их количество + в New York Post даже не страницы, а просто \"далее\") и **beautifulsoup**\n",
    "\n",
    "**Если не хочется ждать или проблемы с driver'ом, можно загрузить из CSV** см. ниже\n",
    "\n",
    "**Важно**: чтобы все работало надо согласиться на куки, иначе они кнопки перекрывают; Если не сработало сразу, согласитесь и перезапустите ячейку"
   ]
  },
  {
   "cell_type": "markdown",
   "metadata": {},
   "source": [
    "## The economist"
   ]
  },
  {
   "cell_type": "markdown",
   "metadata": {},
   "source": [
    "#### Сначала соберем ссылки на статьи по нашему запросу"
   ]
  },
  {
   "cell_type": "code",
   "execution_count": 3,
   "metadata": {},
   "outputs": [],
   "source": [
    "search='BlackLivesMatter' #поисковый запрос общий для всех изданий\n",
    "#Тут пропишите путь к вашему chromedriver или подключите другой\n",
    "driver = Chrome(executable_path=\"./chromedriver\")"
   ]
  },
  {
   "cell_type": "code",
   "execution_count": 4,
   "metadata": {},
   "outputs": [
    {
     "name": "stdout",
     "output_type": "stream",
     "text": [
      "Processing page 0\n",
      "Processing page 1\n",
      "Processing page 2\n",
      "Processing page 3\n",
      "Processing page 4\n",
      "Processing page 5\n",
      "Processing page 6\n",
      "Processing page 7\n",
      "Processing page 8\n",
      "Processing page 9\n",
      "That's all\n"
     ]
    }
   ],
   "source": [
    "#Собираем ссылки\n",
    "#ВАЖНО чтобы работало надо согласиться на куки, иначе они кнопки перекрывают \n",
    "#(согласитесь и перезапустите ячейку, если не сработало сразу)\n",
    "#Note: Структура этого кода как на лекции, но почти все содержание прилось переделать\n",
    "\n",
    "links_economist=[]\n",
    "url = \"https://www.economist.com/search?q=\"+search\n",
    "driver.get(url)\n",
    "\n",
    "for page in range(100):\n",
    "    print(f\"Processing page {page}\")\n",
    "    time.sleep(3)\n",
    "    links = driver.find_elements_by_css_selector(\".search-result\")\n",
    "    \n",
    "    #Вытаскиваем ссылки на статьи \n",
    "    for element in links:\n",
    "        links_economist.append(element.get_attribute('href'))\n",
    "    \n",
    "    #Листаем странички, перестаем листать, когда у кнопки пропадает ссылка\n",
    "    next_link = driver.find_elements_by_class_name(\"ds-pagination__nav-link\")[1]\n",
    "    if next_link.get_attribute('href') is None:\n",
    "        print(\"That's all\")\n",
    "        break\n",
    "    next_link.click()\n",
    "driver.close()"
   ]
  },
  {
   "cell_type": "code",
   "execution_count": 6,
   "metadata": {
    "scrolled": false
   },
   "outputs": [
    {
     "data": {
      "text/plain": [
       "['https://www.economist.com/prospero/2015/01/15/blacklivesmatter',\n",
       " 'https://www.economist.com/united-states/2020/05/21/whatever-happened-to-black-lives-matter',\n",
       " 'https://www.economist.com/democracy-in-america/2015/08/17/what-the-black-lives-matter-campaign-gets-wrong']"
      ]
     },
     "execution_count": 6,
     "metadata": {},
     "output_type": "execute_result"
    }
   ],
   "source": [
    "#Посмотрим на них\n",
    "links_economist[:3]"
   ]
  },
  {
   "cell_type": "markdown",
   "metadata": {},
   "source": [
    "#### Теперь спарсим нужные данные и сделаем табличку\n",
    "Для каждой статьи вытащим дату публикации, название, 1ый абзац и сохраним ссылку. Для этого уже воспользуемся BeautifulSoup, чтобы это было попроще."
   ]
  },
  {
   "cell_type": "code",
   "execution_count": 7,
   "metadata": {},
   "outputs": [],
   "source": [
    "data_economist={'header':[], 'link': [], 'date':[], 'text':[]}\n",
    "for link in links_economist:\n",
    "    data = r.get(link).text\n",
    "    \n",
    "    #выпиливаем нужные данные из html\n",
    "    try:\n",
    "        header = BeautifulSoup(data, 'html.parser').find_all('header')[1]\n",
    "        main = BeautifulSoup(data, 'html.parser').find_all('p',{'class': \"article__body-text\"} )[0]\n",
    "        date= BeautifulSoup(data, 'html.parser').find_all('time')[0]\n",
    "        \n",
    "    #иногда попадаются ссылки не на статьи, а на что-то другое, в них обычно просто нельзя найти нужный блок с текстом\n",
    "    #нам такое не нужно поэтому мы цепляем ошибку list index out of range (значит, что нет нужного блока текста)\n",
    "    #и если такое случилось, то просто ничего не добавляем в табличку\n",
    "    except IndexError:\n",
    "        continue\n",
    "        \n",
    "    data_economist['link'].append(link)\n",
    "    data_economist['header'].append(header.find('span',{'class': \"article__headline\"}).text)\n",
    "    data_economist['text'].append(main.text.lower())\n",
    "    data_economist['date'].append(date['datetime'][:10])"
   ]
  },
  {
   "cell_type": "code",
   "execution_count": 8,
   "metadata": {},
   "outputs": [
    {
     "data": {
      "text/html": [
       "<div>\n",
       "<style scoped>\n",
       "    .dataframe tbody tr th:only-of-type {\n",
       "        vertical-align: middle;\n",
       "    }\n",
       "\n",
       "    .dataframe tbody tr th {\n",
       "        vertical-align: top;\n",
       "    }\n",
       "\n",
       "    .dataframe thead th {\n",
       "        text-align: right;\n",
       "    }\n",
       "</style>\n",
       "<table border=\"1\" class=\"dataframe\">\n",
       "  <thead>\n",
       "    <tr style=\"text-align: right;\">\n",
       "      <th></th>\n",
       "      <th>header</th>\n",
       "      <th>date</th>\n",
       "      <th>text</th>\n",
       "    </tr>\n",
       "  </thead>\n",
       "  <tbody>\n",
       "    <tr>\n",
       "      <th>0</th>\n",
       "      <td>#BlackLivesMatter</td>\n",
       "      <td>2015-01-15</td>\n",
       "      <td>every year several dictionary publishers and t...</td>\n",
       "    </tr>\n",
       "    <tr>\n",
       "      <th>1</th>\n",
       "      <td>Whatever happened to Black Lives Matter?</td>\n",
       "      <td>2020-05-21</td>\n",
       "      <td>the way tef poe sees it, nothing has improved ...</td>\n",
       "    </tr>\n",
       "    <tr>\n",
       "      <th>84</th>\n",
       "      <td>Theda Skocpol’s new work on anti-Trump activists</td>\n",
       "      <td>2018-02-28</td>\n",
       "      <td>theda skocpol produces consistently interestin...</td>\n",
       "    </tr>\n",
       "  </tbody>\n",
       "</table>\n",
       "</div>"
      ],
      "text/plain": [
       "                                              header        date  \\\n",
       "0                                  #BlackLivesMatter  2015-01-15   \n",
       "1           Whatever happened to Black Lives Matter?  2020-05-21   \n",
       "84  Theda Skocpol’s new work on anti-Trump activists  2018-02-28   \n",
       "\n",
       "                                                 text  \n",
       "0   every year several dictionary publishers and t...  \n",
       "1   the way tef poe sees it, nothing has improved ...  \n",
       "84  theda skocpol produces consistently interestin...  "
      ]
     },
     "execution_count": 8,
     "metadata": {},
     "output_type": "execute_result"
    }
   ],
   "source": [
    "#Посмотрим на табличку\n",
    "df_economist = pd.DataFrame(data_economist)\n",
    "# на всяких случай сохранили ссылку в словарь, если понадобится. Но в табличке, я думаю, она не нужна\n",
    "df_economist.drop(['link'], axis=1,inplace=True)\n",
    "df_economist.iloc[[0,1,-1]]"
   ]
  },
  {
   "cell_type": "markdown",
   "metadata": {},
   "source": [
    "### Сделаем то же самое еще для пары изданий\n",
    "\n",
    "Из-за того, что у каждого сайта своя структура, приходится повторять одну и ту же структуру кода с изменениями под конкретный сайт. (Писать одну функцию тоже не очень удобно, так как короче не станет, поскольку для каждого сайта все равно подбирать отдельный механизм, станет только сложнее.)"
   ]
  },
  {
   "cell_type": "markdown",
   "metadata": {},
   "source": [
    "## CNN"
   ]
  },
  {
   "cell_type": "code",
   "execution_count": 9,
   "metadata": {},
   "outputs": [
    {
     "name": "stdout",
     "output_type": "stream",
     "text": [
      "Processing page 0\n",
      "Processing page 1\n",
      "Processing page 2\n",
      "Processing page 3\n",
      "Processing page 4\n",
      "Processing page 5\n",
      "Processing page 6\n",
      "Processing page 7\n",
      "Processing page 8\n",
      "Processing page 9\n",
      "Processing page 10\n",
      "Processing page 11\n",
      "Processing page 12\n",
      "Processing page 13\n",
      "Processing page 14\n",
      "Processing page 15\n",
      "Processing page 16\n",
      "Processing page 17\n",
      "Processing page 18\n",
      "That's all\n"
     ]
    }
   ],
   "source": [
    "#ВАЖНО чтобы работало надо согласиться на куки, иначе они кнопки перекрывают\n",
    "links_cnn=[]\n",
    "\n",
    "driver = Chrome(executable_path=\"./chromedriver\") #Тоже путь к драйверу\n",
    "url = \"https://edition.cnn.com/search?q=\"+search\n",
    "driver.get(url)\n",
    "\n",
    "for page in range(20):\n",
    "    print(f\"Processing page {page}\")\n",
    "    time.sleep(3)\n",
    "    links = driver.find_elements_by_css_selector(\".cnn-search__result-headline a\")\n",
    "    \n",
    "    #Вытаскиваем ссылки на статьи \n",
    "    for element in links:\n",
    "        links_cnn.append(element.get_attribute('href'))\n",
    "    \n",
    "    #Листаем странички, перестаем листать, когда кнопка становится неактивной\n",
    "    next_link = driver.find_elements_by_class_name(\"pagination-arrow\")[1]\n",
    "    if 'deactive' in next_link.get_attribute('class'):\n",
    "        print(\"That's all\")\n",
    "        break\n",
    "    next_link.click()\n",
    "driver.close()"
   ]
  },
  {
   "cell_type": "code",
   "execution_count": 10,
   "metadata": {},
   "outputs": [
    {
     "data": {
      "text/plain": [
       "['https://www.cnn.com/us/live-news/george-floyd-protests-06-15-20/index.html',\n",
       " 'https://www.cnn.com/2020/06/15/politics/us-embassy-seoul-blm-banner/index.html',\n",
       " 'https://www.cnn.com/2020/06/15/us/civil-rights-protests-then-now/index.html']"
      ]
     },
     "execution_count": 10,
     "metadata": {},
     "output_type": "execute_result"
    }
   ],
   "source": [
    "links_cnn[:3]"
   ]
  },
  {
   "cell_type": "markdown",
   "metadata": {},
   "source": [
    "#### Теперь спарсим нужные данные и тоже сделаем табличку"
   ]
  },
  {
   "cell_type": "code",
   "execution_count": 11,
   "metadata": {},
   "outputs": [],
   "source": [
    "#Работает не быстро\n",
    "data_cnn={'header':[], 'link': [], 'date':[], 'text':[]}\n",
    "\n",
    "for link in links_cnn:\n",
    "    data = r.get(link).text\n",
    "    #выпиливаем нужные данные из html, но теперь по-другому\n",
    "    try:\n",
    "        header = BeautifulSoup(data, 'html.parser').find_all('h1')[0]\n",
    "        main = BeautifulSoup(data, 'html.parser').find_all('p',{'class': \"zn-body__paragraph speakable\"} )\n",
    "        main+=BeautifulSoup(data, 'html.parser').find_all('div',{'class': \"zn-body__paragraph speakable\"} )\n",
    "        date= BeautifulSoup(data, 'html.parser').find_all('p', {'class':'update-time'})[0]\n",
    "        \n",
    "    #Точно так же выкидываем неполные данные\n",
    "    #К сожалению, в CNN в некоторых статьях (но чаще в видео) используется другая запись даты и другое ее расположение\n",
    "    #Причем еще и отличающееся друг о друго тоже, поэтому мы не будем брать эту дату, но ее не так много\n",
    "    except IndexError:\n",
    "        continue\n",
    "        \n",
    "    data_cnn['link'].append(link)\n",
    "    data_cnn['header'].append(header.text)\n",
    "    data_cnn['text'].append(' '.join(i.text for i in main).lower().replace('(cnn)',''))\n",
    "    data_cnn['date'].append(date.text.split(')')[-1].strip())"
   ]
  },
  {
   "cell_type": "code",
   "execution_count": 12,
   "metadata": {},
   "outputs": [
    {
     "data": {
      "text/html": [
       "<div>\n",
       "<style scoped>\n",
       "    .dataframe tbody tr th:only-of-type {\n",
       "        vertical-align: middle;\n",
       "    }\n",
       "\n",
       "    .dataframe tbody tr th {\n",
       "        vertical-align: top;\n",
       "    }\n",
       "\n",
       "    .dataframe thead th {\n",
       "        text-align: right;\n",
       "    }\n",
       "</style>\n",
       "<table border=\"1\" class=\"dataframe\">\n",
       "  <thead>\n",
       "    <tr style=\"text-align: right;\">\n",
       "      <th></th>\n",
       "      <th>header</th>\n",
       "      <th>date</th>\n",
       "      <th>text</th>\n",
       "    </tr>\n",
       "  </thead>\n",
       "  <tbody>\n",
       "    <tr>\n",
       "      <th>0</th>\n",
       "      <td>US embassy in Seoul removes Black Lives Matter...</td>\n",
       "      <td>June 15, 2020</td>\n",
       "      <td>washington the us embassy in seoul, south kore...</td>\n",
       "    </tr>\n",
       "    <tr>\n",
       "      <th>1</th>\n",
       "      <td>'The cross is a little lighter today'</td>\n",
       "      <td>June 15, 2020</td>\n",
       "      <td>the protests sweeping the us after george flo...</td>\n",
       "    </tr>\n",
       "    <tr>\n",
       "      <th>145</th>\n",
       "      <td>How 'new power' is upending the status quo</td>\n",
       "      <td>January 2, 2015</td>\n",
       "      <td>for centuries, economic and political power i...</td>\n",
       "    </tr>\n",
       "  </tbody>\n",
       "</table>\n",
       "</div>"
      ],
      "text/plain": [
       "                                                header             date  \\\n",
       "0    US embassy in Seoul removes Black Lives Matter...    June 15, 2020   \n",
       "1                'The cross is a little lighter today'    June 15, 2020   \n",
       "145         How 'new power' is upending the status quo  January 2, 2015   \n",
       "\n",
       "                                                  text  \n",
       "0    washington the us embassy in seoul, south kore...  \n",
       "1     the protests sweeping the us after george flo...  \n",
       "145   for centuries, economic and political power i...  "
      ]
     },
     "execution_count": 12,
     "metadata": {},
     "output_type": "execute_result"
    }
   ],
   "source": [
    "#Посмотрим на табличку\n",
    "df_cnn = pd.DataFrame(data_cnn)\n",
    "# на всяких случай сохранили ссылку в словарь, если понадобится. Но в табличке, я думаю, она не нужна\n",
    "df_cnn.drop(['link'], axis=1,inplace=True)\n",
    "df_cnn.iloc[[0,1,-1]]"
   ]
  },
  {
   "cell_type": "markdown",
   "metadata": {},
   "source": [
    "## New York Post"
   ]
  },
  {
   "cell_type": "code",
   "execution_count": 13,
   "metadata": {},
   "outputs": [
    {
     "name": "stdout",
     "output_type": "stream",
     "text": [
      "Processing page 0\n",
      "Processing page 1\n",
      "Processing page 2\n",
      "Processing page 3\n",
      "Processing page 4\n",
      "Processing page 5\n",
      "Processing page 6\n",
      "Processing page 7\n",
      "Processing page 8\n",
      "That's all\n"
     ]
    }
   ],
   "source": [
    "#ВАЖНО чтобы работало нужно опять на что-то согласиться\n",
    "from selenium.common.exceptions import NoSuchElementException\n",
    "links_post=[]\n",
    "\n",
    "driver = Chrome(executable_path=\"./chromedriver\") #И еще раз\n",
    "url = \"https://nypost.com/search/\"+search\n",
    "driver.get(url)\n",
    "\n",
    "for page in range(10):\n",
    "    print(f\"Processing page {page}\")\n",
    "    time.sleep(3)\n",
    "    links = driver.find_elements_by_class_name(\"entry-heading\")\n",
    "    \n",
    "    #Вытаскиваем ссылки на статьи\n",
    "    #Тут так красиво не получается, поэтому берем внутренний код и из него вытаскиваем ссылку через регулярки\n",
    "    for element in links:\n",
    "        l=re.search(r'href=\"\\S*\"', element.get_attribute('innerHTML')).group(0)\n",
    "        links_post.append(l[6:-1])\n",
    "    \n",
    "    #Теперь у меня не кликается, изобретаем новый способ\n",
    "    try:\n",
    "        next_link = driver.find_element_by_class_name('decider__load-more')\n",
    "    except NoSuchElementException:\n",
    "        print(\"That's all\")\n",
    "        break\n",
    "        \n",
    "    new_link=re.search(r'href=\"\\S*\"', next_link.get_attribute('innerHTML')).group(0)[6:-1]\n",
    "    driver.get(new_link)\n",
    "driver.close()"
   ]
  },
  {
   "cell_type": "code",
   "execution_count": 14,
   "metadata": {},
   "outputs": [
    {
     "data": {
      "text/plain": [
       "['https://nypost.com/2020/06/15/brooklyns-black-lives-matter-street-mural-area-will-be-pedestrian-only-plaza/',\n",
       " 'https://nypost.com/2020/06/14/nascars-kyle-weatherman-races-in-thin-blue-line-car/',\n",
       " 'https://nypost.com/2020/06/13/giant-black-lives-matter-mural-painted-on-nyc-street/']"
      ]
     },
     "execution_count": 14,
     "metadata": {},
     "output_type": "execute_result"
    }
   ],
   "source": [
    "links_post[:3]"
   ]
  },
  {
   "cell_type": "markdown",
   "metadata": {},
   "source": [
    "#### Теперь спарсим нужные данные и тоже сделаем табличку"
   ]
  },
  {
   "cell_type": "code",
   "execution_count": 15,
   "metadata": {},
   "outputs": [],
   "source": [
    "data_post={'header':[], 'link': [], 'date':[], 'text':[]}\n",
    "\n",
    "for link in links_post:\n",
    "    data = r.get(link).text\n",
    "    \n",
    "    #выпиливаем нужные данные из html, но теперь по-другому\n",
    "    try:\n",
    "        header = BeautifulSoup(data, 'html.parser').find_all('h1')[0]\n",
    "        main = BeautifulSoup(data, 'html.parser').find_all('div',{'class': \"entry-content entry-content-read-more\"} )[0]\n",
    "        main.find_all('p')\n",
    "        main_1, main_2, main_3 = main.find_all('p')[0].text ,main.find_all('p')[1].text ,main.find_all('p')[2].text\n",
    "        date = BeautifulSoup(data, 'html.parser').find_all('p', {'class':'byline-date'})[0]\n",
    "          \n",
    "    #Точно так же выкидываем неполные данные\n",
    "    except IndexError:\n",
    "        continue\n",
    "        \n",
    "    data_post['link'].append(link)\n",
    "    data_post['header'].append(header.text.strip())\n",
    "    data_post['text'].append(main_1.lower()+''+main_2.lower()+''+main_3.lower())\n",
    "    data_post['date'].append(date.text.split('|')[0].strip())"
   ]
  },
  {
   "cell_type": "code",
   "execution_count": 16,
   "metadata": {},
   "outputs": [
    {
     "data": {
      "text/html": [
       "<div>\n",
       "<style scoped>\n",
       "    .dataframe tbody tr th:only-of-type {\n",
       "        vertical-align: middle;\n",
       "    }\n",
       "\n",
       "    .dataframe tbody tr th {\n",
       "        vertical-align: top;\n",
       "    }\n",
       "\n",
       "    .dataframe thead th {\n",
       "        text-align: right;\n",
       "    }\n",
       "</style>\n",
       "<table border=\"1\" class=\"dataframe\">\n",
       "  <thead>\n",
       "    <tr style=\"text-align: right;\">\n",
       "      <th></th>\n",
       "      <th>header</th>\n",
       "      <th>date</th>\n",
       "      <th>text</th>\n",
       "    </tr>\n",
       "  </thead>\n",
       "  <tbody>\n",
       "    <tr>\n",
       "      <th>0</th>\n",
       "      <td>Brooklyn’s Black Lives Matter street mural are...</td>\n",
       "      <td>June 15, 2020</td>\n",
       "      <td>the block bearing bedford-stuyvesant’s massive...</td>\n",
       "    </tr>\n",
       "    <tr>\n",
       "      <th>1</th>\n",
       "      <td>NASCAR’s Kyle Weatherman races in Thin Blue Li...</td>\n",
       "      <td>June 14, 2020</td>\n",
       "      <td>three days after bubba wallace, nascar’s only ...</td>\n",
       "    </tr>\n",
       "    <tr>\n",
       "      <th>84</th>\n",
       "      <td>5 hackiest moments from the Season 4 premiere ...</td>\n",
       "      <td>January 12, 2015</td>\n",
       "      <td>it’s sunday night at 9. do you know where your...</td>\n",
       "    </tr>\n",
       "  </tbody>\n",
       "</table>\n",
       "</div>"
      ],
      "text/plain": [
       "                                               header              date  \\\n",
       "0   Brooklyn’s Black Lives Matter street mural are...     June 15, 2020   \n",
       "1   NASCAR’s Kyle Weatherman races in Thin Blue Li...     June 14, 2020   \n",
       "84  5 hackiest moments from the Season 4 premiere ...  January 12, 2015   \n",
       "\n",
       "                                                 text  \n",
       "0   the block bearing bedford-stuyvesant’s massive...  \n",
       "1   three days after bubba wallace, nascar’s only ...  \n",
       "84  it’s sunday night at 9. do you know where your...  "
      ]
     },
     "execution_count": 16,
     "metadata": {},
     "output_type": "execute_result"
    }
   ],
   "source": [
    "#Посмотрим на табличку\n",
    "df_post = pd.DataFrame(data_post)\n",
    "df_post.drop(['link'], axis=1,inplace=True)\n",
    "df_post.iloc[[0,1,-1]]"
   ]
  },
  {
   "cell_type": "markdown",
   "metadata": {},
   "source": [
    "#### Если проблемы с драйвером, можно запустить код ниже"
   ]
  },
  {
   "cell_type": "code",
   "execution_count": 172,
   "metadata": {},
   "outputs": [],
   "source": [
    "#df_economist=pd.read_csv('df_economist_raw.csv')\n",
    "#df_cnn=pd.read_csv('df_cnn_raw.csv')\n",
    "#df_post=pd.read_csv('df_post_raw.csv')"
   ]
  },
  {
   "cell_type": "markdown",
   "metadata": {},
   "source": [
    "## Получили сырые данные, теперь поработаем с ними"
   ]
  },
  {
   "cell_type": "markdown",
   "metadata": {},
   "source": [
    "#### Приведем дату в одно состояние\n",
    "\n",
    "В разных таблицах она записана в разном формате. Возспользуемся встроенным классом для даты и времени в pandas, чтобы в дальнейшем можно было сравнивать публикации по времени.\n",
    "\n",
    "Тут и ниже работаем с **pandas**"
   ]
  },
  {
   "cell_type": "code",
   "execution_count": 173,
   "metadata": {
    "scrolled": true
   },
   "outputs": [
    {
     "data": {
      "text/plain": [
       "0   2020-06-12\n",
       "1   2020-06-11\n",
       "2   2020-06-11\n",
       "Name: date, dtype: datetime64[ns]"
      ]
     },
     "execution_count": 173,
     "metadata": {},
     "output_type": "execute_result"
    }
   ],
   "source": [
    "df_economist['date']=pd.to_datetime(df_economist['date'])\n",
    "df_cnn['date']=pd.to_datetime(df_cnn['date'])\n",
    "df_post['date']=pd.to_datetime(df_post['date'])\n",
    "df_cnn['date'][:3]"
   ]
  },
  {
   "cell_type": "markdown",
   "metadata": {},
   "source": [
    "#### Мы хотим вытащить отдельные слова из текстов, поэтому обработаем их\n",
    "\n",
    "1) Приведем к одному регистру  \n",
    "2) Уберем все знаки, кроме букв и дефисов, и убедимся что там, где были точки, есть пробелы (слова не слиплись)  \n",
    "3) Уберем все слова, состоящие из 1-3 букв - т.е. избавимся от большей части предлогов и местоимений (проверяла, что среди наиболее употребляемых нет существительных из 3х букв) \n",
    "\n",
    "Чтобы это все сделать быстро нам все-таки понадобятся **регулярные выражения**. Напишем функцию, которая будет обрабатывать один датафрейм"
   ]
  },
  {
   "cell_type": "code",
   "execution_count": 174,
   "metadata": {},
   "outputs": [
    {
     "name": "stderr",
     "output_type": "stream",
     "text": [
      "C:\\Users\\mi\\Anaconda3\\lib\\site-packages\\ipykernel_launcher.py:11: SettingWithCopyWarning: \n",
      "A value is trying to be set on a copy of a slice from a DataFrame\n",
      "\n",
      "See the caveats in the documentation: http://pandas.pydata.org/pandas-docs/stable/indexing.html#indexing-view-versus-copy\n",
      "  # This is added back by InteractiveShellApp.init_path()\n",
      "C:\\Users\\mi\\Anaconda3\\lib\\site-packages\\ipykernel_launcher.py:12: SettingWithCopyWarning: \n",
      "A value is trying to be set on a copy of a slice from a DataFrame\n",
      "\n",
      "See the caveats in the documentation: http://pandas.pydata.org/pandas-docs/stable/indexing.html#indexing-view-versus-copy\n",
      "  if sys.path[0] == '':\n"
     ]
    }
   ],
   "source": [
    "#Осторожно, работает несколько минут (1-3)\n",
    "def new_text(df):\n",
    "    df['processed_text']=df['text']\n",
    "    for i in range(len(df['processed_text'])):\n",
    "        #Заменяем все, кроме букв, дефисов и подчеркиваний на пробелы, чтобы слова не слиплись \n",
    "        new_row=re.sub(r'[\\W\\d]',r' ',df['processed_text'][i].lower()) \n",
    "        #Убираем все слишком короткие слова (до 3х букв) и некоторые другие вспомогательные. Это вот реально сложно было\n",
    "        #Подсказка туть: https://ru.stackoverflow.com/questions/658210/Регулярное-выражение-для-выбора-всех-предлогов\n",
    "        new_row=re.sub(r'(?<!\\S)(?:[\\S]{1,3}|after|were|first|last|would|that|there|have|they|their|this|with|what|will|from|which|been|more|most|over|when|over|about|some|said)(?!\\S)',r' ',new_row) \n",
    "        #Заменяем повторяющиеся пробелы на один и разбиваем на слова\n",
    "        df['processed_text'][i]=re.sub(r'\\s+',r' ', new_row).split()\n",
    "        df['header'][i]=df['header'][i].lower().strip()\n",
    "        \n",
    "\n",
    "#Применяем функцию к нашим табличкам\n",
    "new_text(df_economist)\n",
    "new_text(df_cnn)\n",
    "new_text(df_post)"
   ]
  },
  {
   "cell_type": "code",
   "execution_count": 175,
   "metadata": {
    "scrolled": true
   },
   "outputs": [
    {
     "name": "stdout",
     "output_type": "stream",
     "text": [
      "BEFORE: every year several dictionary publishers and the american dialect society announce their picks for word of the year. it's a tricky exercise. not every year throws up a new and obvious zeitgeist-capturing word. 2014 was no exception, so the different juries chose different compromises. one word may not last. two of the four big-name selections are in no way new. and one choice has only a roundabout claim to be a word. \n",
      "\n",
      "AFTER: ['every', 'year', 'several', 'dictionary', 'publishers', 'american', 'dialect', 'society', 'announce', 'picks', 'word', 'year', 'tricky', 'exercise', 'every', 'year', 'throws', 'obvious', 'zeitgeist', 'capturing', 'word', 'exception', 'different', 'juries', 'chose', 'different', 'compromises', 'word', 'four', 'name', 'selections', 'choice', 'only', 'roundabout', 'claim', 'word']\n"
     ]
    }
   ],
   "source": [
    "#Посмотрим как получилось:    \n",
    "print('BEFORE:',df_economist['text'][0],'\\n') \n",
    "print('AFTER:',df_economist['processed_text'][0]) "
   ]
  },
  {
   "cell_type": "markdown",
   "metadata": {},
   "source": [
    "#### Посмотрим на то, что получилось"
   ]
  },
  {
   "cell_type": "code",
   "execution_count": 176,
   "metadata": {},
   "outputs": [
    {
     "data": {
      "text/html": [
       "<div>\n",
       "<style scoped>\n",
       "    .dataframe tbody tr th:only-of-type {\n",
       "        vertical-align: middle;\n",
       "    }\n",
       "\n",
       "    .dataframe tbody tr th {\n",
       "        vertical-align: top;\n",
       "    }\n",
       "\n",
       "    .dataframe thead th {\n",
       "        text-align: right;\n",
       "    }\n",
       "</style>\n",
       "<table border=\"1\" class=\"dataframe\">\n",
       "  <thead>\n",
       "    <tr style=\"text-align: right;\">\n",
       "      <th></th>\n",
       "      <th>header</th>\n",
       "      <th>date</th>\n",
       "      <th>text</th>\n",
       "      <th>processed_text</th>\n",
       "    </tr>\n",
       "  </thead>\n",
       "  <tbody>\n",
       "    <tr>\n",
       "      <th>0</th>\n",
       "      <td>#blacklivesmatter</td>\n",
       "      <td>2015-01-15</td>\n",
       "      <td>every year several dictionary publishers and t...</td>\n",
       "      <td>[every, year, several, dictionary, publishers,...</td>\n",
       "    </tr>\n",
       "    <tr>\n",
       "      <th>1</th>\n",
       "      <td>whatever happened to black lives matter?</td>\n",
       "      <td>2020-05-21</td>\n",
       "      <td>the way tef poe sees it, nothing has improved ...</td>\n",
       "      <td>[sees, nothing, improved, ferguson, mostly, bl...</td>\n",
       "    </tr>\n",
       "    <tr>\n",
       "      <th>2</th>\n",
       "      <td>what the black lives matter campaign gets wrong</td>\n",
       "      <td>2015-08-17</td>\n",
       "      <td>heckling politicians is rarely an effective fo...</td>\n",
       "      <td>[heckling, politicians, rarely, effective, for...</td>\n",
       "    </tr>\n",
       "  </tbody>\n",
       "</table>\n",
       "</div>"
      ],
      "text/plain": [
       "                                            header       date  \\\n",
       "0                                #blacklivesmatter 2015-01-15   \n",
       "1         whatever happened to black lives matter? 2020-05-21   \n",
       "2  what the black lives matter campaign gets wrong 2015-08-17   \n",
       "\n",
       "                                                text  \\\n",
       "0  every year several dictionary publishers and t...   \n",
       "1  the way tef poe sees it, nothing has improved ...   \n",
       "2  heckling politicians is rarely an effective fo...   \n",
       "\n",
       "                                      processed_text  \n",
       "0  [every, year, several, dictionary, publishers,...  \n",
       "1  [sees, nothing, improved, ferguson, mostly, bl...  \n",
       "2  [heckling, politicians, rarely, effective, for...  "
      ]
     },
     "execution_count": 176,
     "metadata": {},
     "output_type": "execute_result"
    }
   ],
   "source": [
    "df_economist[:3]"
   ]
  },
  {
   "cell_type": "code",
   "execution_count": 177,
   "metadata": {},
   "outputs": [
    {
     "data": {
      "text/html": [
       "<div>\n",
       "<style scoped>\n",
       "    .dataframe tbody tr th:only-of-type {\n",
       "        vertical-align: middle;\n",
       "    }\n",
       "\n",
       "    .dataframe tbody tr th {\n",
       "        vertical-align: top;\n",
       "    }\n",
       "\n",
       "    .dataframe thead th {\n",
       "        text-align: right;\n",
       "    }\n",
       "</style>\n",
       "<table border=\"1\" class=\"dataframe\">\n",
       "  <thead>\n",
       "    <tr style=\"text-align: right;\">\n",
       "      <th></th>\n",
       "      <th>header</th>\n",
       "      <th>date</th>\n",
       "      <th>text</th>\n",
       "      <th>processed_text</th>\n",
       "    </tr>\n",
       "  </thead>\n",
       "  <tbody>\n",
       "    <tr>\n",
       "      <th>0</th>\n",
       "      <td>nascar truck racer ray ciccarelli says he's qu...</td>\n",
       "      <td>2020-06-12</td>\n",
       "      <td>when nascar announced that it would be bannin...</td>\n",
       "      <td>[nascar, announced, banning, flying, confedera...</td>\n",
       "    </tr>\n",
       "    <tr>\n",
       "      <th>1</th>\n",
       "      <td>people are tweeting about black lives matter n...</td>\n",
       "      <td>2020-06-11</td>\n",
       "      <td>digital support for black lives matter is at ...</td>\n",
       "      <td>[digital, support, black, lives, matter, time,...</td>\n",
       "    </tr>\n",
       "    <tr>\n",
       "      <th>2</th>\n",
       "      <td>eintracht frankfurt supports black lives matte...</td>\n",
       "      <td>2020-06-11</td>\n",
       "      <td>german club eintracht frankfurt wore a specia...</td>\n",
       "      <td>[german, club, eintracht, frankfurt, wore, spe...</td>\n",
       "    </tr>\n",
       "  </tbody>\n",
       "</table>\n",
       "</div>"
      ],
      "text/plain": [
       "                                              header       date  \\\n",
       "0  nascar truck racer ray ciccarelli says he's qu... 2020-06-12   \n",
       "1  people are tweeting about black lives matter n... 2020-06-11   \n",
       "2  eintracht frankfurt supports black lives matte... 2020-06-11   \n",
       "\n",
       "                                                text  \\\n",
       "0   when nascar announced that it would be bannin...   \n",
       "1   digital support for black lives matter is at ...   \n",
       "2   german club eintracht frankfurt wore a specia...   \n",
       "\n",
       "                                      processed_text  \n",
       "0  [nascar, announced, banning, flying, confedera...  \n",
       "1  [digital, support, black, lives, matter, time,...  \n",
       "2  [german, club, eintracht, frankfurt, wore, spe...  "
      ]
     },
     "execution_count": 177,
     "metadata": {},
     "output_type": "execute_result"
    }
   ],
   "source": [
    "df_cnn[:3]"
   ]
  },
  {
   "cell_type": "code",
   "execution_count": 178,
   "metadata": {},
   "outputs": [
    {
     "data": {
      "text/html": [
       "<div>\n",
       "<style scoped>\n",
       "    .dataframe tbody tr th:only-of-type {\n",
       "        vertical-align: middle;\n",
       "    }\n",
       "\n",
       "    .dataframe tbody tr th {\n",
       "        vertical-align: top;\n",
       "    }\n",
       "\n",
       "    .dataframe thead th {\n",
       "        text-align: right;\n",
       "    }\n",
       "</style>\n",
       "<table border=\"1\" class=\"dataframe\">\n",
       "  <thead>\n",
       "    <tr style=\"text-align: right;\">\n",
       "      <th></th>\n",
       "      <th>header</th>\n",
       "      <th>date</th>\n",
       "      <th>text</th>\n",
       "      <th>processed_text</th>\n",
       "    </tr>\n",
       "  </thead>\n",
       "  <tbody>\n",
       "    <tr>\n",
       "      <th>0</th>\n",
       "      <td>starbucks reverses ban on employees wearing bl...</td>\n",
       "      <td>2020-06-12</td>\n",
       "      <td>starbucks on friday said employees can wear bl...</td>\n",
       "      <td>[starbucks, friday, employees, wear, black, li...</td>\n",
       "    </tr>\n",
       "    <tr>\n",
       "      <th>1</th>\n",
       "      <td>‘glee’ star lea michele was a mean girl ‘from ...</td>\n",
       "      <td>2020-06-11</td>\n",
       "      <td>“glee” actress lea michele was always a mean g...</td>\n",
       "      <td>[glee, actress, michele, always, mean, girl, a...</td>\n",
       "    </tr>\n",
       "    <tr>\n",
       "      <th>2</th>\n",
       "      <td>trump continues slamming gov. inslee over poli...</td>\n",
       "      <td>2020-06-11</td>\n",
       "      <td>president trump on thursday said washington go...</td>\n",
       "      <td>[president, trump, thursday, washington, insle...</td>\n",
       "    </tr>\n",
       "  </tbody>\n",
       "</table>\n",
       "</div>"
      ],
      "text/plain": [
       "                                              header       date  \\\n",
       "0  starbucks reverses ban on employees wearing bl... 2020-06-12   \n",
       "1  ‘glee’ star lea michele was a mean girl ‘from ... 2020-06-11   \n",
       "2  trump continues slamming gov. inslee over poli... 2020-06-11   \n",
       "\n",
       "                                                text  \\\n",
       "0  starbucks on friday said employees can wear bl...   \n",
       "1  “glee” actress lea michele was always a mean g...   \n",
       "2  president trump on thursday said washington go...   \n",
       "\n",
       "                                      processed_text  \n",
       "0  [starbucks, friday, employees, wear, black, li...  \n",
       "1  [glee, actress, michele, always, mean, girl, a...  \n",
       "2  [president, trump, thursday, washington, insle...  "
      ]
     },
     "execution_count": 178,
     "metadata": {},
     "output_type": "execute_result"
    }
   ],
   "source": [
    "df_post[:3]"
   ]
  },
  {
   "cell_type": "markdown",
   "metadata": {},
   "source": [
    "#### Теперь у нас обработанные данные, поделим каждый df на два по времени: до убийства Джорджа Флойда и после"
   ]
  },
  {
   "cell_type": "code",
   "execution_count": 179,
   "metadata": {},
   "outputs": [],
   "source": [
    "df_economist_before=df_economist[df_economist['date']<pd.to_datetime('2020-05-25')]\n",
    "df_economist_after=df_economist[df_economist['date']>=pd.to_datetime('2020-05-25')]\n",
    "\n",
    "df_cnn_before=df_cnn[df_cnn['date']<pd.to_datetime('2020-05-25')]\n",
    "df_cnn_after=df_cnn[df_cnn['date']>=pd.to_datetime('2020-05-25')]\n",
    "\n",
    "df_post_before=df_post[df_post['date']<pd.to_datetime('2020-05-25')]\n",
    "df_post_after=df_post[df_post['date']>=pd.to_datetime('2020-05-25')]"
   ]
  },
  {
   "cell_type": "markdown",
   "metadata": {},
   "source": [
    "# Данные обработали, теперь проанализируем\n"
   ]
  },
  {
   "cell_type": "markdown",
   "metadata": {},
   "source": [
    "## Наиболее употребляемые слова\n",
    "\n",
    "Мы разбили тексты на слова (преимущественно без предлогов и местоимений) и теперь можем для каждого издания найти наиболее употребляемые слова. Для этого:  \n",
    "\n",
    "1) Создадим общий массив всех слов  \n",
    "2) Для каждого издания сделаем отдельные словари: слово - количество раз, которое оно встретилось  \n",
    "3) Найдем наиболее часто употребляемые слова\n",
    "\n",
    "Тут тоже продолжаем работать с *pandas*"
   ]
  },
  {
   "cell_type": "code",
   "execution_count": 180,
   "metadata": {},
   "outputs": [
    {
     "data": {
      "text/plain": [
       "4914"
      ]
     },
     "execution_count": 180,
     "metadata": {},
     "output_type": "execute_result"
    }
   ],
   "source": [
    "#Общий массив всех слов\n",
    "words=set()\n",
    "df_list=[df_economist,df_cnn,df_post]\n",
    "for df in df_list:\n",
    "    for row in df['processed_text']:\n",
    "        words=words.union(row)\n",
    "words=list(words)\n",
    "len(words)"
   ]
  },
  {
   "cell_type": "markdown",
   "metadata": {},
   "source": [
    "#### Считам количество повторов каждого слова"
   ]
  },
  {
   "cell_type": "code",
   "execution_count": 181,
   "metadata": {},
   "outputs": [],
   "source": [
    "#Просто соберем все таблички в один список, чтобы циклы делать\n",
    "df_list_separate=[df_economist_before,df_economist_after,df_cnn_before, df_cnn_after,df_post_before, df_post_after]\n",
    "\n",
    "#Считаем количество повторов слов из каждого издания\n",
    "#Создадим словарик, заполненный нулями\n",
    "words_sheme={}\n",
    "for word in words:\n",
    "    words_sheme[word]=0\n",
    "\n",
    "#Теперь сделаем список из 6 словарей, в каждом будем считать сколько раз каждое слово употребляется в\n",
    "#приведенных выше датабазах (df_list_separate), а именно для каждого издания до и после убийства Флойда\n",
    "\n",
    "words_count=[]\n",
    "total_words=[] #а тут будем считать сколько всего слов в каждой базе данных (без предлогов)\n",
    "for i in range(6):\n",
    "    df=df_list_separate[i]\n",
    "    words_count.append(words_sheme.copy())\n",
    "    total_words.append(0)\n",
    "    for row in df['processed_text']:\n",
    "        for word in row:\n",
    "            total_words[i]+=1\n",
    "            words_count[i][word]+=1\n",
    "            \n",
    "#Теперь просуммируем просто для каждого издания        \n",
    "for i in range(3):\n",
    "    #2i прнимает значения 0 2 4\n",
    "    total_words.append(0)\n",
    "    total_words[i+6]=total_words[2*i]+total_words[2*i+1]\n",
    "    words_count.append(words_count[2*i].copy())\n",
    "    for key in words_count[i+6].keys():\n",
    "         words_count[i+6][key]+=words_count[2*i+1][key]\n",
    "            \n",
    "#А теперь для всех изданий до и после          \n",
    "for i in range(2):\n",
    "    total_words.append(0)\n",
    "    #Суммируем через один\n",
    "    total_words[i+9]=total_words[i]+total_words[i+2]+total_words[i+4]\n",
    "    words_count.append(words_sheme.copy())\n",
    "    for key in words_count[i+6].keys():\n",
    "         words_count[i+9][key]=words_count[i][key]+words_count[i+2][key]+words_count[i+4][key]\n",
    "\n",
    "#А теперь для всех изданий вместе\n",
    "words_count.append(words_sheme.copy())\n",
    "for key in words_count[i+6].keys():\n",
    "    words_count[11][key]=words_count[10][key]+words_count[9][key]\n",
    "total_words.append(0)\n",
    "total_words[11]=total_words[10]+total_words[9]"
   ]
  },
  {
   "cell_type": "code",
   "execution_count": 182,
   "metadata": {},
   "outputs": [
    {
     "name": "stdout",
     "output_type": "stream",
     "text": [
      "Все хорошо!\n"
     ]
    }
   ],
   "source": [
    "#Если мы все сложили правильно, то в последней табличке количество раз, которое употребляется слово, \n",
    "#встреченное в любом из текстов, должно быть >=1, проверим\n",
    "for value in words_count[11].values():\n",
    "    if value<1:\n",
    "        print('WRONG')\n",
    "print('Все хорошо!')"
   ]
  },
  {
   "cell_type": "markdown",
   "metadata": {},
   "source": [
    "Мы получили список из 12(!) словарей с подсчетом слов. Выпишем здесь порядок в котором они идут, чтобы не запутаться:\n",
    "\n",
    "И чтобы вам было понятно, что я складываю между собой в коде выше:\n",
    "\n",
    "- Первые 6: df_economist_before,df_economist_after,df_cnn_before, df_cnn_after,df_post_before, df_post_after\n",
    "- 7-9: df_economist_overall, df_cnn_overall, df_post_overall, (не разделенные по времени)\n",
    "- 10-12: before, after, overall ( не разделенные по изданиям)\n"
   ]
  },
  {
   "cell_type": "markdown",
   "metadata": {},
   "source": [
    "#### Найдем наиболее употребляемые слова в каждом случае и сделаем табличку"
   ]
  },
  {
   "cell_type": "code",
   "execution_count": 183,
   "metadata": {},
   "outputs": [],
   "source": [
    "df_word_count_list=[] #список куда сложим наши таблички\n",
    "for i in range(12):\n",
    "    #создаем копию словаря, вдруг еще пригодится\n",
    "    a=words_count[i].copy()\n",
    "    \n",
    "    #Выбираем все ключи, сортируем по количеству раз, что они встречаются, оставляем 10 самых частых\n",
    "    keys=list(a.keys())\n",
    "    keys.sort(key=lambda x:-a[x])\n",
    "    keys=keys[0:10]\n",
    "    \n",
    "    #удаляем все остальные; Работаем таким образом, т.к. из словаря удобнее делать табличку\n",
    "    for key in list(a.keys()).copy():\n",
    "        if key not in keys:\n",
    "            del a[key]\n",
    "            \n",
    "    #создаем табличку, тут как раз работа с пандасом\n",
    "    df=pd.DataFrame.from_dict(a, orient='index')\n",
    "    df.sort_index(ascending=False, inplace=True)\n",
    "    df.reset_index(level=0, inplace=True) #убираем слова из индексов в отдельную колонку, т.к. мне так не нравится :)\n",
    "    df.columns=['word','count_per_thous'] #переименовываем\n",
    "    df['count_per_thous']=np.round((df['count_per_thous']+1)/total_words[i]*1000) #пересчитываем в расчете на 1000 слов текста\n",
    "    df_word_count_list.append(df) "
   ]
  },
  {
   "cell_type": "markdown",
   "metadata": {},
   "source": [
    "#### Теперь визуализируем то, что мы получили\n",
    "У нас есть 10 табличек с 20 наиболее употрбляемыми словами их их количеством в расчете на 1000 слов текста:  \n",
    "- 6 табличек для до/после для каждого издания  \n",
    "- 3 таблички для разных изданий в целом  \n",
    "- 1 общая табличка  \n",
    "\n",
    "Тот самый сложный код для визуализации"
   ]
  },
  {
   "cell_type": "code",
   "execution_count": 184,
   "metadata": {
    "scrolled": false
   },
   "outputs": [
    {
     "data": {
      "image/png": "[encoded data removed]",
      "text/plain": [
       "<Figure size 1080x1872 with 12 Axes>"
      ]
     },
     "metadata": {},
     "output_type": "display_data"
    }
   ],
   "source": [
    "#Вспоминаем, что выше было отступление, в котором ыл приведен порядок таблиц в списке\n",
    "#Теперь мы хотим вывести их в другом порядке, поэтом создадим словарь с нужным нам порядком названий\n",
    "#И создадим массим, где перечислены номера данных таблиц в исходном списке (соответствие есть выше)\n",
    "table=['economist_before','economist_after', 'economist_overall', 'cnn_before', 'cnn_after', 'cnn_overall', 'post_before', 'post_after', \n",
    "       'post_overall', 'before', 'after', 'overall']\n",
    "number=[0,1,6,2,3,7,4,5,8,9,10,11]\n",
    "\n",
    "#Теперь строим большую таблицу\n",
    "plt.style.use('ggplot') #Для красотулички\n",
    "fig, axs = plt.subplots(4,3, figsize=(15,26))\n",
    "fig.suptitle('Most popular words in different cases')\n",
    "plt.subplots_adjust(wspace = 0.5)\n",
    "\n",
    "for j in range(4):\n",
    "    for i in range(3):\n",
    "        num=i+j*3 #создаем номерацию - это будут числа  от 0 до 11 попорядку \n",
    "        # С их помощью будем передвигаться по спискам с таблицами выше\n",
    "        tab=number[num] #нужная таблица\n",
    "        x = list(df_word_count_list[tab]['word'])\n",
    "        count = list(df_word_count_list[tab]['count_per_thous'])\n",
    "        x_pos = [i for i, _ in enumerate(x)]\n",
    "\n",
    "        axs[j, i].set_title(table[num])\n",
    "        axs[j, i].set_yticks(x_pos)\n",
    "        axs[j, i].set_yticklabels(x)\n",
    "        axs[j, i].barh(x_pos, count, color='green')\n",
    "\n",
    "for ax in axs.flat:\n",
    "    ax.set(xlabel='count per thousand text words', ylabel='')"
   ]
  },
  {
   "cell_type": "markdown",
   "metadata": {},
   "source": [
    "Названия в нужном нам порядке, значит все как мы и хотели:\n",
    "\n",
    "- По строкам идут три разлиный издания (The economist, CNN, New York Post) + общее по изданиям\n",
    "- По столбцам: До смерти Джоржа Флойда, после и общее по периодам\n",
    "\n",
    "(Если посмотреть по словам, то тоже видно, что Флойд появляется во втором столбце, что наводит на мысль, что мы не запутались)"
   ]
  },
  {
   "cell_type": "markdown",
   "metadata": {},
   "source": [
    "## Выводы\n",
    "\n",
    "**Видно, что после убийства Джоржда Флойда произошли изменения в словах, наиболее часто употребляемых изданиями в вводных абзацах к статьям, а именно:**\n",
    "\n",
    "- После его убийства среди наиболее употребляемых появляется его имя, смерть, упоминание протестов и все чаще в самих статьях используется #BlackLivesMatter (В некоторых изданиях фигурирует Миннеаполис и растет частота употребления слова Америка) - это было ожидаемо\n",
    "\n",
    "- Также в нескольких изданиях (The economist и CNN) помимо слова *black* стало часто употребляться и слово *white*. Возможно, это можно интерпретировать как больший акцент на расизме, либо как описание текущих событий - поведение тех и других во время протестов.\n",
    "\n",
    "- И наоборот в среднем имена политиков (Трамп и Клинтон) исчезают из наиболее употребляемых - довольно интересное наблюдение, что фокус смещается с политиков к конкретным событиям\n",
    "\n",
    "- Возрасла сама частота употребления ключевых слов: там слово *black* за последние пару недель стало употребляться в среднем 20+ раз на тысячу слов вместо 11\n",
    "\n",
    "- Если сравнить статистику *до* и *в целом на текущий момент*, то видно, что помиио небольшого изменения частоты слов популярность набрал хештег BlackLivesMatter \n",
    "\n",
    "**Также можно заметить и разницу между изданиями:**\n",
    "\n",
    "- Видно, что в The economist часто фигурирует слово *america* (после 25.05 появляется *Britain*), часто употребляемся Трамп и много говорится про полицию, нет хештега, нет протестов\n",
    "\n",
    "- В CNN есть хештег как до, так и после. Часто упоминаются Клинтон и Трамп, не так часто упоминается полиция\n",
    "\n",
    "- В New York Post хештег тоже есть как до, так и после. Не появляется слово *white*, часто употребялеся словов *social* и, что интересно, раньше среди часто встречаемых были университет и звезды, после - инстаграм\n",
    "\n",
    "-Интересно, что *social* появляется в right biased журнале\n"
   ]
  },
  {
   "cell_type": "markdown",
   "metadata": {},
   "source": [
    "## Эмоциональная окрашенность\n",
    "Мы проанализировали какие слова чаще всего употребляются в журнальных статьях на данную тему. Теперь посмотрим на те эмоции, которые в большей степени вызывают данных отрывки из статей. (Напомню, что мы решили анализировать первые несколько абзацев, т.к. именно они призваны привлечь читателя к статье, значит и их эмоциальная окрашенность в первую очередь должна влиять на читателя)\n",
    "\n",
    "Для этого мы воспользуемся сервисом *Tone Analyzer*, а именно прикрутим их **API**:\n",
    "https://tone-analyzer-demo.ng.bluemix.net/\n",
    "\n",
    "- *Tone Analyzer* проверяет к какой категории: Anger, Fear, Joy, Sadness, Analytical, Confident, Tentative, относится тональность текста (может быть несколько) и указывает вероятнотность, с которой текст к ней относится, в случае, если она больше 0.5\n",
    "\n",
    "Мы хотим проанализировать наши исходные тексты (без вырезанных слов):\n",
    "\n",
    "1) Создадим в исходных табличках с текстом и датой, которые мы спарсили 7 столбцов, соответсвующих указанным выше тональностям\n",
    "\n",
    "2) Прогоним все наши данные через *Tone Analyzer* и в каждый столбец запишем вероятность, которую получим через API (если он не возвращает какую-либо категорию, то там указываем 0)\n",
    " "
   ]
  },
  {
   "cell_type": "markdown",
   "metadata": {},
   "source": [
    "#### Отредактируем таблички, добавив нужные колонки, заполненные нулями"
   ]
  },
  {
   "cell_type": "code",
   "execution_count": 185,
   "metadata": {},
   "outputs": [
    {
     "data": {
      "text/html": [
       "<div>\n",
       "<style scoped>\n",
       "    .dataframe tbody tr th:only-of-type {\n",
       "        vertical-align: middle;\n",
       "    }\n",
       "\n",
       "    .dataframe tbody tr th {\n",
       "        vertical-align: top;\n",
       "    }\n",
       "\n",
       "    .dataframe thead th {\n",
       "        text-align: right;\n",
       "    }\n",
       "</style>\n",
       "<table border=\"1\" class=\"dataframe\">\n",
       "  <thead>\n",
       "    <tr style=\"text-align: right;\">\n",
       "      <th></th>\n",
       "      <th>header</th>\n",
       "      <th>date</th>\n",
       "      <th>text</th>\n",
       "      <th>processed_text</th>\n",
       "      <th>Anger</th>\n",
       "      <th>Fear</th>\n",
       "      <th>Joy</th>\n",
       "      <th>Sadness</th>\n",
       "      <th>Analytical</th>\n",
       "      <th>Confident</th>\n",
       "      <th>Tentative</th>\n",
       "    </tr>\n",
       "  </thead>\n",
       "  <tbody>\n",
       "    <tr>\n",
       "      <th>0</th>\n",
       "      <td>starbucks reverses ban on employees wearing bl...</td>\n",
       "      <td>2020-06-12</td>\n",
       "      <td>starbucks on friday said employees can wear bl...</td>\n",
       "      <td>[starbucks, friday, employees, wear, black, li...</td>\n",
       "      <td>0.0</td>\n",
       "      <td>0.0</td>\n",
       "      <td>0.0</td>\n",
       "      <td>0.0</td>\n",
       "      <td>0.0</td>\n",
       "      <td>0.0</td>\n",
       "      <td>0.0</td>\n",
       "    </tr>\n",
       "    <tr>\n",
       "      <th>1</th>\n",
       "      <td>‘glee’ star lea michele was a mean girl ‘from ...</td>\n",
       "      <td>2020-06-11</td>\n",
       "      <td>“glee” actress lea michele was always a mean g...</td>\n",
       "      <td>[glee, actress, michele, always, mean, girl, a...</td>\n",
       "      <td>0.0</td>\n",
       "      <td>0.0</td>\n",
       "      <td>0.0</td>\n",
       "      <td>0.0</td>\n",
       "      <td>0.0</td>\n",
       "      <td>0.0</td>\n",
       "      <td>0.0</td>\n",
       "    </tr>\n",
       "    <tr>\n",
       "      <th>79</th>\n",
       "      <td>5 hackiest moments from the season 4 premiere ...</td>\n",
       "      <td>2015-01-12</td>\n",
       "      <td>it’s sunday night at 9. do you know where your...</td>\n",
       "      <td>[sunday, night, know, where, your, hipster, ch...</td>\n",
       "      <td>0.0</td>\n",
       "      <td>0.0</td>\n",
       "      <td>0.0</td>\n",
       "      <td>0.0</td>\n",
       "      <td>0.0</td>\n",
       "      <td>0.0</td>\n",
       "      <td>0.0</td>\n",
       "    </tr>\n",
       "  </tbody>\n",
       "</table>\n",
       "</div>"
      ],
      "text/plain": [
       "                                               header       date  \\\n",
       "0   starbucks reverses ban on employees wearing bl... 2020-06-12   \n",
       "1   ‘glee’ star lea michele was a mean girl ‘from ... 2020-06-11   \n",
       "79  5 hackiest moments from the season 4 premiere ... 2015-01-12   \n",
       "\n",
       "                                                 text  \\\n",
       "0   starbucks on friday said employees can wear bl...   \n",
       "1   “glee” actress lea michele was always a mean g...   \n",
       "79  it’s sunday night at 9. do you know where your...   \n",
       "\n",
       "                                       processed_text  Anger  Fear  Joy  \\\n",
       "0   [starbucks, friday, employees, wear, black, li...    0.0   0.0  0.0   \n",
       "1   [glee, actress, michele, always, mean, girl, a...    0.0   0.0  0.0   \n",
       "79  [sunday, night, know, where, your, hipster, ch...    0.0   0.0  0.0   \n",
       "\n",
       "    Sadness  Analytical  Confident  Tentative  \n",
       "0       0.0         0.0        0.0        0.0  \n",
       "1       0.0         0.0        0.0        0.0  \n",
       "79      0.0         0.0        0.0        0.0  "
      ]
     },
     "execution_count": 185,
     "metadata": {},
     "output_type": "execute_result"
    }
   ],
   "source": [
    "#Таблички нам еще понадобятся, поэтому сделаем копии:\n",
    "df_economist_tone=df_economist.copy()\n",
    "df_cnn_tone=df_cnn.copy()\n",
    "df_post_tone=df_post.copy()\n",
    "df_list_tone=[df_economist_tone, df_cnn_tone, df_post_tone]\n",
    "\n",
    "# Новые колонки\n",
    "names=['Anger', 'Fear', 'Joy', 'Sadness', 'Analytical', 'Confident', 'Tentative']\n",
    "for df in df_list_tone: # Таблички лежат в df_list_tone\n",
    "    #df.drop(['processed_text'], axis=1,inplace=True)\n",
    "    for name in names:\n",
    "        df[name]=0.0\n",
    "\n",
    "#Пример того, что получилось\n",
    "df_post_tone.iloc[[0,1,-1]]"
   ]
  },
  {
   "cell_type": "markdown",
   "metadata": {},
   "source": [
    "#### Прикрутим API\n",
    "Это чуть более сложное API, нам потребуется поставить эту штуку:"
   ]
  },
  {
   "cell_type": "code",
   "execution_count": 186,
   "metadata": {},
   "outputs": [],
   "source": [
    "#Оставлю в виде комментария, если вам удобнее установить другим способом\n",
    "#import sys\n",
    "#!\"{sys.executable}\" -m pip install --upgrade \"ibm-watson>=4.5.0\""
   ]
  },
  {
   "cell_type": "markdown",
   "metadata": {},
   "source": [
    "#### Важно! Тут не так много бесплатных использований\n",
    "Моего ключа должно хватить на еще несколько раз, но если нет, то можно зарегистрироваться еще раз (start for free in IBM cloud по ссылке выше) и вставить свой ключ, либо ниже запустить код, который загрузит сохраненные мной таблички из csv"
   ]
  },
  {
   "cell_type": "code",
   "execution_count": 187,
   "metadata": {},
   "outputs": [],
   "source": [
    "api_key='9_HywwWrn1IF-vd3zV68TV7T2f3PgkGFU7g04GGYgeRv'\n",
    "url='https://api.eu-gb.tone-analyzer.watson.cloud.ibm.com/instances/5e1c9d39-55e9-44a5-9bb9-6509fa27d467'"
   ]
  },
  {
   "cell_type": "code",
   "execution_count": 188,
   "metadata": {},
   "outputs": [
    {
     "data": {
      "text/plain": [
       "{'document_tone': {'tones': [{'score': 0.95007,\n",
       "    'tone_id': 'joy',\n",
       "    'tone_name': 'Joy'}]}}"
      ]
     },
     "execution_count": 188,
     "metadata": {},
     "output_type": "execute_result"
    }
   ],
   "source": [
    "#Подключаемся к API\n",
    "from ibm_watson import ToneAnalyzerV3\n",
    "from ibm_cloud_sdk_core.authenticators import IAMAuthenticator\n",
    "\n",
    "authenticator = IAMAuthenticator(api_key)\n",
    "tone_analyzer = ToneAnalyzerV3(\n",
    "    version='2017-09-21',\n",
    "    authenticator=authenticator\n",
    ")\n",
    "tone_analyzer.set_service_url(url)\n",
    "\n",
    "#Примерчик, чтобы было видно, что происходит\n",
    "import json\n",
    "text = 'Hello world! You are so nice!'\n",
    "\n",
    "tone_analysis = tone_analyzer.tone(\n",
    "    {'text': text},\n",
    "    content_type='application/json',\n",
    "    sentences=False\n",
    ").get_result()\n",
    "tone_analysis"
   ]
  },
  {
   "cell_type": "code",
   "execution_count": 189,
   "metadata": {},
   "outputs": [
    {
     "name": "stderr",
     "output_type": "stream",
     "text": [
      "C:\\Users\\mi\\Anaconda3\\lib\\site-packages\\ipykernel_launcher.py:10: SettingWithCopyWarning: \n",
      "A value is trying to be set on a copy of a slice from a DataFrame\n",
      "\n",
      "See the caveats in the documentation: http://pandas.pydata.org/pandas-docs/stable/indexing.html#indexing-view-versus-copy\n",
      "  # Remove the CWD from sys.path while we load stuff.\n"
     ]
    }
   ],
   "source": [
    "#Обрабатываем наши таблички:\n",
    "#Не очень быстро, несколько минут\n",
    "for df in df_list_tone:\n",
    "    for i in range(len(df['text'])):\n",
    "        text=df['text'][i]\n",
    "        tone_analysis = tone_analyzer.tone({'text': text}, content_type='application/json',\n",
    "            sentences=False).get_result()\n",
    "        for tone in tone_analysis['document_tone']['tones']:\n",
    "            column_name=tone['tone_name']\n",
    "            df[column_name][i]=tone['score']"
   ]
  },
  {
   "cell_type": "code",
   "execution_count": 190,
   "metadata": {},
   "outputs": [
    {
     "data": {
      "text/html": [
       "<div>\n",
       "<style scoped>\n",
       "    .dataframe tbody tr th:only-of-type {\n",
       "        vertical-align: middle;\n",
       "    }\n",
       "\n",
       "    .dataframe tbody tr th {\n",
       "        vertical-align: top;\n",
       "    }\n",
       "\n",
       "    .dataframe thead th {\n",
       "        text-align: right;\n",
       "    }\n",
       "</style>\n",
       "<table border=\"1\" class=\"dataframe\">\n",
       "  <thead>\n",
       "    <tr style=\"text-align: right;\">\n",
       "      <th></th>\n",
       "      <th>header</th>\n",
       "      <th>date</th>\n",
       "      <th>text</th>\n",
       "      <th>processed_text</th>\n",
       "      <th>Anger</th>\n",
       "      <th>Fear</th>\n",
       "      <th>Joy</th>\n",
       "      <th>Sadness</th>\n",
       "      <th>Analytical</th>\n",
       "      <th>Confident</th>\n",
       "      <th>Tentative</th>\n",
       "    </tr>\n",
       "  </thead>\n",
       "  <tbody>\n",
       "    <tr>\n",
       "      <th>0</th>\n",
       "      <td>starbucks reverses ban on employees wearing bl...</td>\n",
       "      <td>2020-06-12</td>\n",
       "      <td>starbucks on friday said employees can wear bl...</td>\n",
       "      <td>[starbucks, friday, employees, wear, black, li...</td>\n",
       "      <td>0.0</td>\n",
       "      <td>0.0</td>\n",
       "      <td>0.508615</td>\n",
       "      <td>0.0</td>\n",
       "      <td>0.000000</td>\n",
       "      <td>0.000000</td>\n",
       "      <td>0.579049</td>\n",
       "    </tr>\n",
       "    <tr>\n",
       "      <th>1</th>\n",
       "      <td>‘glee’ star lea michele was a mean girl ‘from ...</td>\n",
       "      <td>2020-06-11</td>\n",
       "      <td>“glee” actress lea michele was always a mean g...</td>\n",
       "      <td>[glee, actress, michele, always, mean, girl, a...</td>\n",
       "      <td>0.0</td>\n",
       "      <td>0.0</td>\n",
       "      <td>0.570021</td>\n",
       "      <td>0.0</td>\n",
       "      <td>0.702184</td>\n",
       "      <td>0.691244</td>\n",
       "      <td>0.000000</td>\n",
       "    </tr>\n",
       "    <tr>\n",
       "      <th>79</th>\n",
       "      <td>5 hackiest moments from the season 4 premiere ...</td>\n",
       "      <td>2015-01-12</td>\n",
       "      <td>it’s sunday night at 9. do you know where your...</td>\n",
       "      <td>[sunday, night, know, where, your, hipster, ch...</td>\n",
       "      <td>0.0</td>\n",
       "      <td>0.0</td>\n",
       "      <td>0.633226</td>\n",
       "      <td>0.0</td>\n",
       "      <td>0.826847</td>\n",
       "      <td>0.000000</td>\n",
       "      <td>0.000000</td>\n",
       "    </tr>\n",
       "  </tbody>\n",
       "</table>\n",
       "</div>"
      ],
      "text/plain": [
       "                                               header       date  \\\n",
       "0   starbucks reverses ban on employees wearing bl... 2020-06-12   \n",
       "1   ‘glee’ star lea michele was a mean girl ‘from ... 2020-06-11   \n",
       "79  5 hackiest moments from the season 4 premiere ... 2015-01-12   \n",
       "\n",
       "                                                 text  \\\n",
       "0   starbucks on friday said employees can wear bl...   \n",
       "1   “glee” actress lea michele was always a mean g...   \n",
       "79  it’s sunday night at 9. do you know where your...   \n",
       "\n",
       "                                       processed_text  Anger  Fear       Joy  \\\n",
       "0   [starbucks, friday, employees, wear, black, li...    0.0   0.0  0.508615   \n",
       "1   [glee, actress, michele, always, mean, girl, a...    0.0   0.0  0.570021   \n",
       "79  [sunday, night, know, where, your, hipster, ch...    0.0   0.0  0.633226   \n",
       "\n",
       "    Sadness  Analytical  Confident  Tentative  \n",
       "0       0.0    0.000000   0.000000   0.579049  \n",
       "1       0.0    0.702184   0.691244   0.000000  \n",
       "79      0.0    0.826847   0.000000   0.000000  "
      ]
     },
     "execution_count": 190,
     "metadata": {},
     "output_type": "execute_result"
    }
   ],
   "source": [
    "#Пример того, что получилось\n",
    "df_post_tone.iloc[[0,1,-1]]\n",
    "#Если посмотреть на больший кусок, то видно, что данные встречаются во всех колонках"
   ]
  },
  {
   "cell_type": "code",
   "execution_count": 191,
   "metadata": {},
   "outputs": [],
   "source": [
    "#df_economist_tone.to_csv('df_economist_tone.csv', index=False)\n",
    "#df_cnn_tone.to_csv('df_cnn_tone.csv', index=False)\n",
    "#df_post_tone.to_csv('df_post_tone.csv', index=False)"
   ]
  },
  {
   "cell_type": "markdown",
   "metadata": {},
   "source": [
    "#### Если закончилось бесплатное использование и нет своего ключа:"
   ]
  },
  {
   "cell_type": "code",
   "execution_count": 192,
   "metadata": {},
   "outputs": [],
   "source": [
    "#df_economist_tone=pd.read_csv('df_economist_tone.csv')\n",
    "#df_cnn_tone=pd.read_csv('df_cnn_tone.csv')\n",
    "#df_post_tone=pd.read_csv('df_post_tone.csv')"
   ]
  },
  {
   "cell_type": "markdown",
   "metadata": {},
   "source": [
    "### Обработаем данные и визуализируем\n",
    "\n",
    "Опять работа с pandas.DataFrame и визуальзация"
   ]
  },
  {
   "cell_type": "code",
   "execution_count": 193,
   "metadata": {},
   "outputs": [
    {
     "data": {
      "text/html": [
       "<div>\n",
       "<style scoped>\n",
       "    .dataframe tbody tr th:only-of-type {\n",
       "        vertical-align: middle;\n",
       "    }\n",
       "\n",
       "    .dataframe tbody tr th {\n",
       "        vertical-align: top;\n",
       "    }\n",
       "\n",
       "    .dataframe thead th {\n",
       "        text-align: right;\n",
       "    }\n",
       "</style>\n",
       "<table border=\"1\" class=\"dataframe\">\n",
       "  <thead>\n",
       "    <tr style=\"text-align: right;\">\n",
       "      <th></th>\n",
       "      <th>journal</th>\n",
       "      <th>header</th>\n",
       "      <th>date</th>\n",
       "      <th>text</th>\n",
       "      <th>processed_text</th>\n",
       "      <th>Anger</th>\n",
       "      <th>Fear</th>\n",
       "      <th>Joy</th>\n",
       "      <th>Sadness</th>\n",
       "      <th>Analytical</th>\n",
       "      <th>Confident</th>\n",
       "      <th>Tentative</th>\n",
       "    </tr>\n",
       "  </thead>\n",
       "  <tbody>\n",
       "    <tr>\n",
       "      <th>0</th>\n",
       "      <td>economist</td>\n",
       "      <td>#blacklivesmatter</td>\n",
       "      <td>2015-01-15</td>\n",
       "      <td>every year several dictionary publishers and t...</td>\n",
       "      <td>[every, year, several, dictionary, publishers,...</td>\n",
       "      <td>0.0</td>\n",
       "      <td>0.0</td>\n",
       "      <td>0.000000</td>\n",
       "      <td>0.0</td>\n",
       "      <td>0.000000</td>\n",
       "      <td>0.0</td>\n",
       "      <td>0.0</td>\n",
       "    </tr>\n",
       "    <tr>\n",
       "      <th>1</th>\n",
       "      <td>economist</td>\n",
       "      <td>whatever happened to black lives matter?</td>\n",
       "      <td>2020-05-21</td>\n",
       "      <td>the way tef poe sees it, nothing has improved ...</td>\n",
       "      <td>[sees, nothing, improved, ferguson, mostly, bl...</td>\n",
       "      <td>0.0</td>\n",
       "      <td>0.0</td>\n",
       "      <td>0.000000</td>\n",
       "      <td>0.0</td>\n",
       "      <td>0.000000</td>\n",
       "      <td>0.0</td>\n",
       "      <td>0.0</td>\n",
       "    </tr>\n",
       "    <tr>\n",
       "      <th>259</th>\n",
       "      <td>post</td>\n",
       "      <td>5 hackiest moments from the season 4 premiere ...</td>\n",
       "      <td>2015-01-12</td>\n",
       "      <td>it’s sunday night at 9. do you know where your...</td>\n",
       "      <td>[sunday, night, know, where, your, hipster, ch...</td>\n",
       "      <td>0.0</td>\n",
       "      <td>0.0</td>\n",
       "      <td>0.633226</td>\n",
       "      <td>0.0</td>\n",
       "      <td>0.826847</td>\n",
       "      <td>0.0</td>\n",
       "      <td>0.0</td>\n",
       "    </tr>\n",
       "  </tbody>\n",
       "</table>\n",
       "</div>"
      ],
      "text/plain": [
       "       journal                                             header       date  \\\n",
       "0    economist                                  #blacklivesmatter 2015-01-15   \n",
       "1    economist           whatever happened to black lives matter? 2020-05-21   \n",
       "259       post  5 hackiest moments from the season 4 premiere ... 2015-01-12   \n",
       "\n",
       "                                                  text  \\\n",
       "0    every year several dictionary publishers and t...   \n",
       "1    the way tef poe sees it, nothing has improved ...   \n",
       "259  it’s sunday night at 9. do you know where your...   \n",
       "\n",
       "                                        processed_text  Anger  Fear       Joy  \\\n",
       "0    [every, year, several, dictionary, publishers,...    0.0   0.0  0.000000   \n",
       "1    [sees, nothing, improved, ferguson, mostly, bl...    0.0   0.0  0.000000   \n",
       "259  [sunday, night, know, where, your, hipster, ch...    0.0   0.0  0.633226   \n",
       "\n",
       "     Sadness  Analytical  Confident  Tentative  \n",
       "0        0.0    0.000000        0.0        0.0  \n",
       "1        0.0    0.000000        0.0        0.0  \n",
       "259      0.0    0.826847        0.0        0.0  "
      ]
     },
     "execution_count": 193,
     "metadata": {},
     "output_type": "execute_result"
    }
   ],
   "source": [
    "#Сделаем одну большую табличку\n",
    "df_tone=pd.concat(df_list_tone, keys=['economist', 'cnn', 'post'])\n",
    "df_tone.reset_index(level=0, inplace=True)\n",
    "df_tone.reset_index(level=0, drop=True, inplace=True)\n",
    "df_tone.rename(columns={\"level_0\": \"journal\"}, inplace=True)\n",
    "df_tone.iloc[[0,1,-1]]"
   ]
  },
  {
   "cell_type": "code",
   "execution_count": 194,
   "metadata": {
    "scrolled": true
   },
   "outputs": [
    {
     "data": {
      "text/html": [
       "<div>\n",
       "<style scoped>\n",
       "    .dataframe tbody tr th:only-of-type {\n",
       "        vertical-align: middle;\n",
       "    }\n",
       "\n",
       "    .dataframe tbody tr th {\n",
       "        vertical-align: top;\n",
       "    }\n",
       "\n",
       "    .dataframe thead th {\n",
       "        text-align: right;\n",
       "    }\n",
       "</style>\n",
       "<table border=\"1\" class=\"dataframe\">\n",
       "  <thead>\n",
       "    <tr style=\"text-align: right;\">\n",
       "      <th></th>\n",
       "      <th></th>\n",
       "      <th>Anger</th>\n",
       "      <th>Fear</th>\n",
       "      <th>Joy</th>\n",
       "      <th>Sadness</th>\n",
       "      <th>Analytical</th>\n",
       "      <th>Confident</th>\n",
       "      <th>Tentative</th>\n",
       "    </tr>\n",
       "    <tr>\n",
       "      <th></th>\n",
       "      <th>journal</th>\n",
       "      <th></th>\n",
       "      <th></th>\n",
       "      <th></th>\n",
       "      <th></th>\n",
       "      <th></th>\n",
       "      <th></th>\n",
       "      <th></th>\n",
       "    </tr>\n",
       "  </thead>\n",
       "  <tbody>\n",
       "    <tr>\n",
       "      <th rowspan=\"3\" valign=\"top\">proportion</th>\n",
       "      <th>cnn</th>\n",
       "      <td>0.069444</td>\n",
       "      <td>0.055556</td>\n",
       "      <td>0.243056</td>\n",
       "      <td>0.305556</td>\n",
       "      <td>0.416667</td>\n",
       "      <td>0.187500</td>\n",
       "      <td>0.361111</td>\n",
       "    </tr>\n",
       "    <tr>\n",
       "      <th>economist</th>\n",
       "      <td>0.027778</td>\n",
       "      <td>0.027778</td>\n",
       "      <td>0.111111</td>\n",
       "      <td>0.416667</td>\n",
       "      <td>0.388889</td>\n",
       "      <td>0.083333</td>\n",
       "      <td>0.361111</td>\n",
       "    </tr>\n",
       "    <tr>\n",
       "      <th>post</th>\n",
       "      <td>0.050000</td>\n",
       "      <td>0.012500</td>\n",
       "      <td>0.225000</td>\n",
       "      <td>0.225000</td>\n",
       "      <td>0.362500</td>\n",
       "      <td>0.162500</td>\n",
       "      <td>0.325000</td>\n",
       "    </tr>\n",
       "    <tr>\n",
       "      <th rowspan=\"3\" valign=\"top\">probability</th>\n",
       "      <th>cnn</th>\n",
       "      <td>0.570167</td>\n",
       "      <td>0.606095</td>\n",
       "      <td>0.607718</td>\n",
       "      <td>0.586424</td>\n",
       "      <td>0.688790</td>\n",
       "      <td>0.688853</td>\n",
       "      <td>0.745097</td>\n",
       "    </tr>\n",
       "    <tr>\n",
       "      <th>economist</th>\n",
       "      <td>0.692364</td>\n",
       "      <td>0.708202</td>\n",
       "      <td>0.619972</td>\n",
       "      <td>0.598199</td>\n",
       "      <td>0.722641</td>\n",
       "      <td>0.668872</td>\n",
       "      <td>0.725884</td>\n",
       "    </tr>\n",
       "    <tr>\n",
       "      <th>post</th>\n",
       "      <td>0.585768</td>\n",
       "      <td>0.672452</td>\n",
       "      <td>0.628713</td>\n",
       "      <td>0.607836</td>\n",
       "      <td>0.707385</td>\n",
       "      <td>0.673905</td>\n",
       "      <td>0.687535</td>\n",
       "    </tr>\n",
       "  </tbody>\n",
       "</table>\n",
       "</div>"
      ],
      "text/plain": [
       "                          Anger      Fear       Joy   Sadness  Analytical  \\\n",
       "            journal                                                         \n",
       "proportion  cnn        0.069444  0.055556  0.243056  0.305556    0.416667   \n",
       "            economist  0.027778  0.027778  0.111111  0.416667    0.388889   \n",
       "            post       0.050000  0.012500  0.225000  0.225000    0.362500   \n",
       "probability cnn        0.570167  0.606095  0.607718  0.586424    0.688790   \n",
       "            economist  0.692364  0.708202  0.619972  0.598199    0.722641   \n",
       "            post       0.585768  0.672452  0.628713  0.607836    0.707385   \n",
       "\n",
       "                       Confident  Tentative  \n",
       "            journal                          \n",
       "proportion  cnn         0.187500   0.361111  \n",
       "            economist   0.083333   0.361111  \n",
       "            post        0.162500   0.325000  \n",
       "probability cnn         0.688853   0.745097  \n",
       "            economist   0.668872   0.725884  \n",
       "            post        0.673905   0.687535  "
      ]
     },
     "execution_count": 194,
     "metadata": {},
     "output_type": "execute_result"
    }
   ],
   "source": [
    "#Вот такие доли статей в среднем получаются по разным изданиям (суммируем ненулевые ячейки)\n",
    "share=pd.concat([df_tone.iloc[:, [0,2]], df_tone.iloc[:, 5:]>0], axis=1).reindex().groupby('journal').mean()\n",
    "#А это средние вероятности для тех, которые рапознал Tone analyzer (там где не нули)\n",
    "prob=pd.concat([df_tone.iloc[:, [0]], df_tone.iloc[:, 5:].replace({0: np.nan})], axis=1).reindex().groupby('journal').mean()\n",
    "pivot=pd.concat([share,prob], keys=['proportion', 'probability'])\n",
    "pivot"
   ]
  },
  {
   "cell_type": "markdown",
   "metadata": {},
   "source": [
    "По табличке выше уже видно, что есть небольшие отличия между изданиями, но давайте **построим график с долей статей каждого типа и вероятностями** для каждого издания. Помним, что если в колоне стоит число, отличное от нуля, то *tone analyzer* отметил его тональность."
   ]
  },
  {
   "cell_type": "code",
   "execution_count": 195,
   "metadata": {},
   "outputs": [
    {
     "data": {
      "image/png": "[encoded data removed]",
      "text/plain": [
       "<Figure size 720x720 with 1 Axes>"
      ]
     },
     "metadata": {},
     "output_type": "display_data"
    }
   ],
   "source": [
    "#Еще один не очень тривиальный код для графика\n",
    "#Но самое главное что? Самое главное 10 минут выбирать красивые цвета\n",
    "plt.style.use('ggplot')\n",
    "plt.figure(figsize=(10,10))\n",
    "\n",
    "x=np.arange(7) #Количество тональностей\n",
    "\n",
    "labels=['CNN','The economist', 'New York Post']\n",
    "colors=['indianred', 'mediumpurple', 'orange']\n",
    "\n",
    "for i in range(3):\n",
    "    y_1=list(pivot.iloc[i, :])\n",
    "    y_2=list(pivot.iloc[3+i, :])\n",
    "    \n",
    "    plt.plot(x, y_1, label=labels[i]+' proportion', color=colors[i])\n",
    "    plt.plot(x, y_2, label=labels[i]+' mean', linestyle = '--', linewidth = 2, color=colors[i])\n",
    "\n",
    "plt.ylabel('Доля статей с данной тональностью') \n",
    "plt.title('Тональность статей')\n",
    "plt.xticks(x, (names)) #Вставляем названия\n",
    "plt.legend()\n",
    "plt.show()"
   ]
  },
  {
   "cell_type": "markdown",
   "metadata": {},
   "source": [
    "### Промежуточные выводы\n",
    "\n",
    "Исходя из пропорций:\n",
    "\n",
    "**Общее для всех изданий:**\n",
    "\n",
    "- Чаще всего статьи имеют аналитический характер, но при этом и большая доля статей имеет грустную тональность, что вполне разумно в свете текущих событий\n",
    "\n",
    "- Во всех изданиях много \"предварительных/колеблющихся/неуверенных\" (*tentative*) статей, что впослне свойственно теме, которую мы выбрали\n",
    "\n",
    "\n",
    "**Но в тональности статей есть различия для разных изданий**\n",
    "\n",
    "- В The economist большая доля статей с окраской *sadness* и меньшая доля статей с окраской *joy*\n",
    "\n",
    "- В CNN больше всего аналитических и написанных с уверенностью статей\n",
    "\n",
    "- В New York Post самая маленькая доля грустных статей и даже совпадает по количеству со статьями относящимися к *joy*\n",
    "\n",
    "По графикам средней вероятности видно, что с наибольшей уверенностью статьи попадают в категории аналитических, страха и неопределенности.\n",
    "\n",
    "**Попробуем визуализировать данные для временных промежутков**\n"
   ]
  },
  {
   "cell_type": "code",
   "execution_count": 196,
   "metadata": {},
   "outputs": [
    {
     "name": "stderr",
     "output_type": "stream",
     "text": [
      "C:\\Users\\mi\\Anaconda3\\lib\\site-packages\\ipykernel_launcher.py:2: SettingWithCopyWarning: \n",
      "A value is trying to be set on a copy of a slice from a DataFrame.\n",
      "Try using .loc[row_indexer,col_indexer] = value instead\n",
      "\n",
      "See the caveats in the documentation: http://pandas.pydata.org/pandas-docs/stable/indexing.html#indexing-view-versus-copy\n",
      "  \n",
      "C:\\Users\\mi\\Anaconda3\\lib\\site-packages\\pandas\\core\\frame.py:3940: SettingWithCopyWarning: \n",
      "A value is trying to be set on a copy of a slice from a DataFrame\n",
      "\n",
      "See the caveats in the documentation: http://pandas.pydata.org/pandas-docs/stable/indexing.html#indexing-view-versus-copy\n",
      "  errors=errors)\n"
     ]
    },
    {
     "data": {
      "text/plain": [
       "<matplotlib.axes._subplots.AxesSubplot at 0x1483d58f4a8>"
      ]
     },
     "execution_count": 196,
     "metadata": {},
     "output_type": "execute_result"
    },
    {
     "data": {
      "image/png": "[encoded data removed]",
      "text/plain": [
       "<Figure size 864x576 with 1 Axes>"
      ]
     },
     "metadata": {},
     "output_type": "display_data"
    }
   ],
   "source": [
    "df_date=df_tone.iloc[:,[0,2,5,6,7,8,9,10,11]]\n",
    "df_date['month']=[dat.to_period('m').strftime('%Y-%m')for dat in df_date['date']]\n",
    "df_date.drop(['date'], axis=1,inplace=True)\n",
    "date=df_date.groupby('month').mean()\n",
    "date[45:].plot(figsize=(12,8))"
   ]
  },
  {
   "cell_type": "markdown",
   "metadata": {},
   "source": [
    "К сожалению, красивого мало, но:\n",
    "\n",
    "- В конце 19 года затишье, до мая 20 года много аналитических и грустных статей \n",
    "\n",
    "- В мае 20 года начинают появляться статьи с совершенно разной тональной окрашенностью, причем доля аналитических снижается, появляется злость - в целом более широкий эмоциональный спектр"
   ]
  },
  {
   "cell_type": "markdown",
   "metadata": {},
   "source": [
    "#### Видно, что в мае-июне начинает расти sadness\n",
    "\n",
    "Поэтому попробуем найти самый грустный днень - день, в который все три издания выпустили статьи охарактеризованные как грустные\n",
    "\n",
    "Для этого воспользуемся **SQL**, чтобы красиво объединить таблички (В пандасе, конечно, на все есть функции, но джойнить там неприятно)"
   ]
  },
  {
   "cell_type": "code",
   "execution_count": 197,
   "metadata": {},
   "outputs": [],
   "source": [
    "from sqlite3 import connect\n",
    "conn = connect(\"my_database.sqlite\")\n",
    "c = conn.cursor()"
   ]
  },
  {
   "cell_type": "code",
   "execution_count": 198,
   "metadata": {},
   "outputs": [],
   "source": [
    "c.execute(\"\"\"DROP TABLE IF EXISTS economist\"\"\")\n",
    "c.execute(\"\"\"DROP TABLE IF EXISTS post\"\"\")\n",
    "c.execute(\"\"\"DROP TABLE IF EXISTS cnn\"\"\")\n",
    "df_economist_tone.iloc[:,[1,4,5,6,7,8,9,10]].to_sql(\"economist\", conn)\n",
    "df_cnn_tone.iloc[:,[1,4,5,6,7,8,9,10]].to_sql(\"cnn\", conn)\n",
    "df_post_tone.iloc[:,[1,4,5,6,7,8,9,10]].to_sql(\"post\", conn)"
   ]
  },
  {
   "cell_type": "code",
   "execution_count": 199,
   "metadata": {},
   "outputs": [
    {
     "data": {
      "text/html": [
       "<div>\n",
       "<style scoped>\n",
       "    .dataframe tbody tr th:only-of-type {\n",
       "        vertical-align: middle;\n",
       "    }\n",
       "\n",
       "    .dataframe tbody tr th {\n",
       "        vertical-align: top;\n",
       "    }\n",
       "\n",
       "    .dataframe thead th {\n",
       "        text-align: right;\n",
       "    }\n",
       "</style>\n",
       "<table border=\"1\" class=\"dataframe\">\n",
       "  <thead>\n",
       "    <tr style=\"text-align: right;\">\n",
       "      <th></th>\n",
       "      <th>date</th>\n",
       "      <th>economist.Sadness</th>\n",
       "      <th>cnn.Sadness</th>\n",
       "      <th>post.Anger</th>\n",
       "    </tr>\n",
       "  </thead>\n",
       "  <tbody>\n",
       "    <tr>\n",
       "      <th>0</th>\n",
       "      <td>2020-06-08 00:00:00</td>\n",
       "      <td>0.603001</td>\n",
       "      <td>0.649972</td>\n",
       "      <td>0.541541</td>\n",
       "    </tr>\n",
       "  </tbody>\n",
       "</table>\n",
       "</div>"
      ],
      "text/plain": [
       "                  date  economist.Sadness  cnn.Sadness  post.Anger\n",
       "0  2020-06-08 00:00:00           0.603001     0.649972    0.541541"
      ]
     },
     "execution_count": 199,
     "metadata": {},
     "output_type": "execute_result"
    }
   ],
   "source": [
    "pd.read_sql(\"\"\"SELECT economist.date, economist.Sadness as \"economist.Sadness\", cnn.Sadness as \"cnn.Sadness\", post.Sadness as \"post.Anger\"  FROM economist\n",
    "JOIN cnn ON economist.date = cnn.date \n",
    "JOIN post ON cnn.date = post.date\n",
    "GROUP BY economist.date \n",
    "Having economist.Sadness > 0\"\"\", conn)"
   ]
  },
  {
   "cell_type": "markdown",
   "metadata": {},
   "source": [
    "Мы получили 8ое июня - разгар протестов и в США, и в Британии"
   ]
  },
  {
   "cell_type": "markdown",
   "metadata": {},
   "source": [
    "## Логическое завершение\n",
    "\n",
    "Мы скачали, обработали, визуализировали и проанализировали данные по различным статьям по запросу *#BlackLivesMatter*. Теперь неплохо бы с ними что-нибудь сделать. \n",
    "\n",
    "В выводах выше мы заметили, что статьи различаются для разных изданий. Попробуем построить простую модель, чтобы предсказывать к какому изданию скорее всего относится статья!\n",
    "\n",
    "Для это возьмем данные по употребляемым в текстах словах, так как, к сожалению, эмоциональная окрашенность присутсвует далеко не во всех текстах и по ней будет сложно что-то предстказать. Также мы будем обучать простую модель классификации, поэтому не будет учитывать информацию о времени выхода статей.\n",
    "\n",
    "Итак, возмем **LogisticRegression и RandomForestRegressor**\n",
    "\n",
    "1) Обработаем данные, выбрав среди общего банка слов (который получился около 5000) 500 наиболее употребляемых и упорядочим.\n",
    "\n",
    "2) Для каждой записи в данных построим вектор длины 500, где число на i-ом месте будет обочнаяать количество слов с этим номеров в общей базе, встреченных в тексте. Воспользуемся **numpy**, чтобы делать вменяемые матрицы + немного математики, чтобы **стандартизировать** (будем считать среднне и стандартное отклонение дляв всех столбцов) и **нормализовать** (посмотрим, что лучше) данные (в этом случае через numpy удобнее, чем работать с df)\n",
    "\n",
    "3) Каждой записи поставим в соответсвие 0,1 или 2 - класс: The economist, CNN и New York Post соответсвенно\n",
    "\n",
    "4) Поделим выборку на обучение и тест и обучим нашу модель"
   ]
  },
  {
   "cell_type": "markdown",
   "metadata": {},
   "source": [
    "#### Готовим данные"
   ]
  },
  {
   "cell_type": "code",
   "execution_count": 200,
   "metadata": {},
   "outputs": [
    {
     "name": "stdout",
     "output_type": "stream",
     "text": [
      "True\n",
      "True\n",
      "True\n"
     ]
    }
   ],
   "source": [
    "n=500\n",
    "#создаем вектор с наиболее ипотребляемыми словами, помним, что все слова были подсчитаны в words_count[11]\n",
    "top_words=words_count[11].copy()\n",
    "    \n",
    "#Выбираем все ключи, сортируем по количеству раз, что они встречаются, оставляем 500 самых частых\n",
    "keys=list(top_words.keys())\n",
    "keys.sort(key=lambda x:-top_words[x])\n",
    "keys=keys[0:n]\n",
    "\n",
    "#Создаем общую табличку\n",
    "df=pd.concat(df_list, keys=[0, 1, 2])\n",
    "df.drop(['header','date','text'], axis=1,inplace=True)\n",
    "df.reset_index(level=0, inplace=True)\n",
    "df.reset_index(level=0, drop=True, inplace=True)\n",
    "df.rename(columns={\"level_0\": \"journal\"}, inplace=True)\n",
    "df.iloc[[0,1,-1]]\n",
    "\n",
    "#Создаем матрицу\n",
    "matrix=np.array([[0]*n]*len(df))\n",
    "for i in range(len(df)):\n",
    "    lst=df['processed_text'][i]\n",
    "    for word in lst:\n",
    "        if word in keys:\n",
    "            matrix[i][keys.index(word)]+=1 \n",
    "            \n",
    "#Вектор с классами\n",
    "y=np.array(df['journal'])\n",
    "\n",
    "#Стандартизируем матрицу, то есть заменим x <- (x - mean) / standard_deviation\n",
    "X_1=(matrix-matrix.mean(axis=0))/matrix.std(axis=0)\n",
    "#Проверим, что теперь среднее во всех столбцах равно 0\n",
    "print(np.prod(np.round(X_1.mean(axis=0),10)==0)==1)\n",
    "#А стандартное отклонение 1\n",
    "print(np.prod(np.round(X_1.std(axis=0),10)==1)==1)\n",
    "#Округляем, что иметь возможность стравнить вещественные числа - они очень близки но не равны в точности\n",
    "\n",
    "#Нормализуем матрицу,то есть заменим x <- (x - min) / (max-min); min=0\n",
    "X_2=matrix/matrix.max(axis=0)\n",
    "\n",
    "#Проверим, что теперь максимум во всех столбцах равен 1\n",
    "print(np.prod(X_2.max(axis=0)==1)==1)"
   ]
  },
  {
   "cell_type": "markdown",
   "metadata": {},
   "source": [
    "#### Научимся предсказывать\n",
    "\n",
    "Мы возьмем *RandomForestRegressor* и *LogisticRegression*. Второй лучше работает на обработанных данных, поэтому проверим результаты для обычной матрицы, стандартизированных и нормализованных данных"
   ]
  },
  {
   "cell_type": "code",
   "execution_count": 201,
   "metadata": {
    "scrolled": false
   },
   "outputs": [
    {
     "name": "stdout",
     "output_type": "stream",
     "text": [
      "Не обработанные:\n",
      "Логистическая регрессия:  0.5521153846153846\n",
      "Лес:  0.5769230769230769\n",
      "Стандартизированные:\n",
      "Логистическая регрессия:  0.4238461538461538\n",
      "Лес:  0.5655769230769231\n",
      "Нормализованные:\n",
      "Логистическая регрессия:  0.5713461538461538\n",
      "Лес:  0.5869230769230769\n"
     ]
    }
   ],
   "source": [
    "from sklearn.linear_model import LogisticRegression \n",
    "from sklearn.ensemble import RandomForestRegressor\n",
    "from sklearn.model_selection import train_test_split\n",
    "from sklearn.metrics import accuracy_score\n",
    "\n",
    "import warnings\n",
    "\n",
    "# Чтобы оценить работу классификаторов, прогоним из несколько раз и посчитаем среднюю точность предсказаний \n",
    "def compute_accuracy(X,y,n=100):    \n",
    "    #Чтобы каждый раз не получать сообщения сделаем хитрую штуку\n",
    "    with warnings.catch_warnings():\n",
    "        warnings.simplefilter(\"ignore\")\n",
    "        warnings.warn(\"deprecated\", FutureWarning)\n",
    "\n",
    "        logreg=[]\n",
    "        forest=[]\n",
    "        logreg_clf = LogisticRegression()\n",
    "        forest_clf = RandomForestRegressor(n_estimators=15) #Тут я опытнам путем выбрала число 15\n",
    "        for i in range(n):\n",
    "\n",
    "            #Разбиваем рандомно выборку на тест и обучение, stratify чтобы были нужные пропорции у классов\n",
    "            X_train, X_test, y_train, y_test = train_test_split(X, y, test_size=0.20, stratify=y)   \n",
    "\n",
    "            logreg_clf.fit(X_train, y_train)\n",
    "            logreg_prediction=logreg_clf.predict(X_test)\n",
    "            logreg.append(accuracy_score(logreg_prediction, y_test))\n",
    "\n",
    "            forest_clf.fit(X_train, y_train)\n",
    "            y_pred = forest_clf.predict(X_test)\n",
    "\n",
    "            forest.append(accuracy_score(np.round(y_pred), y_test))\n",
    "    \n",
    "    \n",
    "    \n",
    "\n",
    "        print('Логистическая регрессия: ', np.array(logreg).mean())\n",
    "        print('Лес: ', np.array(forest).mean())\n",
    "\n",
    "        \n",
    "#Теперь сравним на каких данных лучше работает Логистическая регрессия        \n",
    "print('Не обработанные:')        \n",
    "compute_accuracy(matrix,y,100)        \n",
    "print('Стандартизированные:')        \n",
    "compute_accuracy(X_1,y,100) \n",
    "print('Нормализованные:')        \n",
    "compute_accuracy(X_2,y,100) "
   ]
  },
  {
   "cell_type": "markdown",
   "metadata": {},
   "source": [
    "#### Нормализованные данные оказались однозначно лучше (на лес не влияют)"
   ]
  },
  {
   "cell_type": "code",
   "execution_count": 202,
   "metadata": {},
   "outputs": [
    {
     "data": {
      "text/plain": [
       "<matplotlib.legend.Legend at 0x1483a6ce7b8>"
      ]
     },
     "execution_count": 202,
     "metadata": {},
     "output_type": "execute_result"
    },
    {
     "data": {
      "image/png": "[encoded data removed]",
      "text/plain": [
       "<Figure size 432x288 with 1 Axes>"
      ]
     },
     "metadata": {},
     "output_type": "display_data"
    }
   ],
   "source": [
    "# Посмотрим на оптимальный размер леса\n",
    "# Немного объемно, но ничего страшного\n",
    "test_mses = []\n",
    "train_mses = []\n",
    "n = np.arange(5, 35 ,2)\n",
    "X_train, X_test, y_train, y_test = train_test_split(X_2, y, test_size=0.20, stratify=y)\n",
    "\n",
    "for number in n:\n",
    "        with warnings.catch_warnings():\n",
    "            warnings.simplefilter(\"ignore\")\n",
    "            warnings.warn(\"deprecated\", FutureWarning)\n",
    "\n",
    "            tree = RandomForestRegressor(n_estimators=number)\n",
    "            test = []\n",
    "            train = []\n",
    "\n",
    "            for i in range(30):\n",
    "\n",
    "                #Разбиваем рандомно выборку на тест и обучение, stratify чтобы были нужные пропорции у классов\n",
    "                X_train, X_test, y_train, y_test = train_test_split(X_2, y, test_size=0.20, stratify=y)   \n",
    "\n",
    "                tree.fit(X_train, y_train)\n",
    "                y_pred = tree.predict(X_test)\n",
    "\n",
    "                test.append(((tree.predict(X_test) - y_test) ** 2).mean())\n",
    "                train.append(((tree.predict(X_train) - y_train) ** 2).mean())\n",
    "\n",
    "            test_mses.append(np.array(test).mean())\n",
    "            train_mses.append(np.array(train).mean())\n",
    "        \n",
    "plt.plot(n, test_mses, label=\"test mse\")\n",
    "plt.plot(n, train_mses, label=\"train mse\")\n",
    "plt.legend()    "
   ]
  },
  {
   "cell_type": "markdown",
   "metadata": {},
   "source": [
    "Видим, что 15-20 как раз достаточно\n",
    "\n",
    "#### Итого:\n",
    "\n",
    "- Лучшая точность предсказаний около 57%\n",
    "\n",
    "- В среднем лес справляется чуть лучше\n",
    "\n",
    "- Для логистической регрессии лучше всего подходят нормализованные данные\n",
    "\n",
    "- С нормализованными данными результаты почти одинковые\n",
    "\n",
    "**Обновление**: раньше лес предсказывал чуть лучше, на новых данных он стал чуть хуже, показатели логистической регрессии остались такие же - единственное изменение. Можете проверить на данных, сохраненных в csv"
   ]
  },
  {
   "cell_type": "markdown",
   "metadata": {},
   "source": [
    "### Ура, научились предсказывать, к какому классу относится статья со средней точностью чуть меньше 60%!\n",
    "Не идеально, но это гораздо лучше, чем тыкать наугад и больше, чем предсказывать один класс (3 класса -> вероятность 33%, один класс ~45%)!"
   ]
  },
  {
   "cell_type": "code",
   "execution_count": 203,
   "metadata": {},
   "outputs": [
    {
     "name": "stdout",
     "output_type": "stream",
     "text": [
      "[0.]\n"
     ]
    }
   ],
   "source": [
    "#А тут можем предсказывать:\n",
    "# Тут я брала лес, так как на старых данных он предсказывал чуть лучше, чел лог регрессия! \n",
    "    \n",
    "def new_text(text):\n",
    "    new_row=re.sub(r'[\\W\\d]',r' ',text.lower())\n",
    "    new_row=re.sub(r'(?<!\\S)(?:[\\S]{1,3}|after|were|first|last|would|that|there|have|they|their|this|with|what|will|from|which|been|more|most|over|when|over|about|some|said)(?!\\S)',r' ',new_row)\n",
    "    list_of_words=re.sub(r'\\s+',r' ', new_row).split()\n",
    "    return list_of_words\n",
    "\n",
    "def create_vector(words):\n",
    "    matrix=np.array([[0]*500])\n",
    "    for word in words:\n",
    "        if word in keys:\n",
    "            matrix[0][keys.index(word)]+=1\n",
    "    return matrix\n",
    "\n",
    "def predict(text):   \n",
    "    forest = RandomForestRegressor(n_estimators=number)\n",
    "    X_train, X_test, y_train, y_test = train_test_split(matrix, y, test_size=0.20, stratify=y)   \n",
    "    forest.fit(X_train, y_train)\n",
    "    \n",
    "    text=text.title()\n",
    "    words=new_text(text)\n",
    "    vector=create_vector(words)\n",
    "    y_pred = forest.predict(vector)\n",
    "    \n",
    "    print(np.round(y_pred))\n",
    "    \n",
    "predict('Aweek after the Trump administration ordered riot police to charge a peaceful crowd in Lafayette Square, it was transformed. The leafy park in front of the White House was enclosed by a steel fence, through which police could be seen loitering. The streets alongside it—including newly named “Black Lives Matter Plaza”, at the bottom of 16th Street, in direct view of the White House—had been colonised by protesters and were far more fun.')\n",
    "#0- The economist что верно"
   ]
  },
  {
   "cell_type": "markdown",
   "metadata": {},
   "source": [
    "## Совсем логическое завершение\n",
    "\n",
    "Мы посмотрели на данные, проанализировали различия во времени и между изданиями и научились с разумной точностью предсказывать, к какому изданию скорее всего относится данная статья, по набору слов.\n",
    " \n",
    "И как финальный штрих воспользуемся **streamlite** и сделаем страничку, куда можно будет ввести текст и получить предсказание!\n",
    "\n",
    "Для этого мы:\n",
    "\n",
    "1) Сохраним данные, которые использовали для обучения (сохраним не обработанные, так как лес работает одинаково хорошо с любыми, а нам тогда не придется обрабатывать запрос пользователя) в csv и зальем на гитхаб\n",
    "\n",
    "2) Создадим скрипт и обучим регрессор так же как в коде выше (только теперь выберем лес, так как он справляется немного лучше, обучим один раз для предсказаний и не будем гонять циклы)\n",
    "\n",
    "3) Красивенько оформим страничку и задеплоим\n",
    "\n",
    "Вот **[по этой ссылочке](https://fast-brook-89678.herokuapp.com/)** можно посмотреть, что получилось:\n",
    "\n",
    "Код скрипта в папке *py*, файл *app.py*"
   ]
  },
  {
   "cell_type": "code",
   "execution_count": 204,
   "metadata": {},
   "outputs": [
    {
     "data": {
      "text/html": [
       "<div>\n",
       "<style scoped>\n",
       "    .dataframe tbody tr th:only-of-type {\n",
       "        vertical-align: middle;\n",
       "    }\n",
       "\n",
       "    .dataframe tbody tr th {\n",
       "        vertical-align: top;\n",
       "    }\n",
       "\n",
       "    .dataframe thead th {\n",
       "        text-align: right;\n",
       "    }\n",
       "</style>\n",
       "<table border=\"1\" class=\"dataframe\">\n",
       "  <thead>\n",
       "    <tr style=\"text-align: right;\">\n",
       "      <th></th>\n",
       "      <th>0</th>\n",
       "      <th>1</th>\n",
       "      <th>2</th>\n",
       "      <th>3</th>\n",
       "      <th>4</th>\n",
       "      <th>5</th>\n",
       "      <th>6</th>\n",
       "      <th>7</th>\n",
       "      <th>8</th>\n",
       "      <th>9</th>\n",
       "      <th>...</th>\n",
       "      <th>491</th>\n",
       "      <th>492</th>\n",
       "      <th>493</th>\n",
       "      <th>494</th>\n",
       "      <th>495</th>\n",
       "      <th>496</th>\n",
       "      <th>497</th>\n",
       "      <th>498</th>\n",
       "      <th>499</th>\n",
       "      <th>500</th>\n",
       "    </tr>\n",
       "  </thead>\n",
       "  <tbody>\n",
       "    <tr>\n",
       "      <th>0</th>\n",
       "      <td>0</td>\n",
       "      <td>0</td>\n",
       "      <td>0</td>\n",
       "      <td>0</td>\n",
       "      <td>0</td>\n",
       "      <td>0</td>\n",
       "      <td>0</td>\n",
       "      <td>0</td>\n",
       "      <td>0</td>\n",
       "      <td>0</td>\n",
       "      <td>...</td>\n",
       "      <td>0</td>\n",
       "      <td>0</td>\n",
       "      <td>0</td>\n",
       "      <td>0</td>\n",
       "      <td>0</td>\n",
       "      <td>0</td>\n",
       "      <td>0</td>\n",
       "      <td>0</td>\n",
       "      <td>0</td>\n",
       "      <td>0</td>\n",
       "    </tr>\n",
       "    <tr>\n",
       "      <th>1</th>\n",
       "      <td>0</td>\n",
       "      <td>2</td>\n",
       "      <td>1</td>\n",
       "      <td>1</td>\n",
       "      <td>1</td>\n",
       "      <td>1</td>\n",
       "      <td>0</td>\n",
       "      <td>0</td>\n",
       "      <td>0</td>\n",
       "      <td>0</td>\n",
       "      <td>...</td>\n",
       "      <td>0</td>\n",
       "      <td>0</td>\n",
       "      <td>0</td>\n",
       "      <td>0</td>\n",
       "      <td>0</td>\n",
       "      <td>0</td>\n",
       "      <td>0</td>\n",
       "      <td>0</td>\n",
       "      <td>0</td>\n",
       "      <td>0</td>\n",
       "    </tr>\n",
       "    <tr>\n",
       "      <th>2</th>\n",
       "      <td>0</td>\n",
       "      <td>1</td>\n",
       "      <td>0</td>\n",
       "      <td>1</td>\n",
       "      <td>1</td>\n",
       "      <td>0</td>\n",
       "      <td>0</td>\n",
       "      <td>0</td>\n",
       "      <td>0</td>\n",
       "      <td>0</td>\n",
       "      <td>...</td>\n",
       "      <td>0</td>\n",
       "      <td>0</td>\n",
       "      <td>0</td>\n",
       "      <td>0</td>\n",
       "      <td>0</td>\n",
       "      <td>0</td>\n",
       "      <td>0</td>\n",
       "      <td>0</td>\n",
       "      <td>0</td>\n",
       "      <td>0</td>\n",
       "    </tr>\n",
       "  </tbody>\n",
       "</table>\n",
       "<p>3 rows × 501 columns</p>\n",
       "</div>"
      ],
      "text/plain": [
       "   0  1  2  3  4  5  6  7  8  9  ...  491  492  493  494  495  496  497  498  \\\n",
       "0  0  0  0  0  0  0  0  0  0  0  ...    0    0    0    0    0    0    0    0   \n",
       "1  0  2  1  1  1  1  0  0  0  0  ...    0    0    0    0    0    0    0    0   \n",
       "2  0  1  0  1  1  0  0  0  0  0  ...    0    0    0    0    0    0    0    0   \n",
       "\n",
       "   499  500  \n",
       "0    0    0  \n",
       "1    0    0  \n",
       "2    0    0  \n",
       "\n",
       "[3 rows x 501 columns]"
      ]
     },
     "execution_count": 204,
     "metadata": {},
     "output_type": "execute_result"
    }
   ],
   "source": [
    "#Сохраним нормализованные данные \n",
    "df = pd.DataFrame(np.concatenate((y.reshape(len(y),1),matrix), axis=1))\n",
    "#df.to_csv('data_for_machine_learning.csv', index=False) #Я уже соранила и загрузила\n",
    "\n",
    "#Вот тут лежат сохряненные данные\n",
    "df=pd.read_csv('https://raw.githubusercontent.com/IYahooo/FinalProject/master/data_for_machine_learning.csv')\n",
    "df[:3]"
   ]
  }
 ],
 "metadata": {
  "kernelspec": {
   "display_name": "Python 3",
   "language": "python",
   "name": "python3"
  },
  "language_info": {
   "codemirror_mode": {
    "name": "ipython",
    "version": 3
   },
   "file_extension": ".py",
   "mimetype": "text/x-python",
   "name": "python",
   "nbconvert_exporter": "python",
   "pygments_lexer": "ipython3",
   "version": "3.7.1"
  }
 },
 "nbformat": 4,
 "nbformat_minor": 2
}
